{
 "cells": [
  {
   "cell_type": "markdown",
   "id": "b00491eb",
   "metadata": {},
   "source": [
    "# Análise Estatística de Dados Telefônicos\n",
    "\n",
    "Segue aqui um projeto de DEA, (dea data envelopment analysis), de bancos de dados de uma empresa fictícia chamada Megaline.\n",
    "\n",
    "## Iniciação\n",
    "\n",
    "- Carregando pandas para o manejo do banco de dados\n",
    "- Matplotlib para desfrutar da vizualização gráfica dos dados\n",
    "- Statistics para cálculos de estatística\n",
    "- Datetime para formatação das datas na coluna referente ao dia no calendário\n",
    "- Seaborn como complemento ao matplotlib\n",
    "- Alpha como nível crítico de significância estatística"
   ]
  },
  {
   "cell_type": "code",
   "execution_count": 1,
   "id": "263af352",
   "metadata": {},
   "outputs": [],
   "source": [
    "import pandas as pd\n",
    "import matplotlib as plot\n",
    "import statistics\n",
    "import datetime as dt\n",
    "import matplotlib.pyplot as plt\n",
    "import seaborn as sns\n",
    "import numpy as np\n",
    "import math\n",
    "from functools import reduce\n",
    "from scipy import stats as st\n",
    "alpha=0.05"
   ]
  },
  {
   "cell_type": "markdown",
   "id": "e372339a",
   "metadata": {},
   "source": [
    "Ignorando avisos do python."
   ]
  },
  {
   "cell_type": "code",
   "execution_count": 2,
   "id": "ec1caaa1",
   "metadata": {},
   "outputs": [],
   "source": [
    "import warnings\n",
    "warnings.filterwarnings('ignore')\n",
    "warnings.warn('DelftStack')\n",
    "warnings.warn('Do not show this message')"
   ]
  },
  {
   "cell_type": "code",
   "execution_count": 3,
   "id": "10b5897e",
   "metadata": {},
   "outputs": [],
   "source": [
    "#Carregando os dataframes.\n",
    "df_call=pd.read_csv('/datasets/megaline_calls.csv')\n",
    "df_net=pd.read_csv('/datasets/megaline_internet.csv')\n",
    "df_msg=pd.read_csv('/datasets/megaline_messages.csv')\n",
    "df_plans=pd.read_csv('/datasets/megaline_plans.csv')\n",
    "df_user=pd.read_csv('/datasets/megaline_users.csv')"
   ]
  },
  {
   "cell_type": "markdown",
   "id": "b016468d",
   "metadata": {},
   "source": [
    "## Observando dados gerais de todos os dataframes disponibilizados."
   ]
  },
  {
   "cell_type": "code",
   "execution_count": 4,
   "id": "63ea9009",
   "metadata": {},
   "outputs": [
    {
     "name": "stdout",
     "output_type": "stream",
     "text": [
      "<class 'pandas.core.frame.DataFrame'>\n",
      "RangeIndex: 137735 entries, 0 to 137734\n",
      "Data columns (total 4 columns):\n",
      " #   Column     Non-Null Count   Dtype  \n",
      "---  ------     --------------   -----  \n",
      " 0   id         137735 non-null  object \n",
      " 1   user_id    137735 non-null  int64  \n",
      " 2   call_date  137735 non-null  object \n",
      " 3   duration   137735 non-null  float64\n",
      "dtypes: float64(1), int64(1), object(2)\n",
      "memory usage: 4.2+ MB\n"
     ]
    }
   ],
   "source": [
    "# Imprimindo  as informações gerais/resumidas sobre os DataFrames\n",
    "df_call.info()"
   ]
  },
  {
   "cell_type": "code",
   "execution_count": 5,
   "id": "99ccfe7b",
   "metadata": {},
   "outputs": [
    {
     "data": {
      "text/html": [
       "<div>\n",
       "<style scoped>\n",
       "    .dataframe tbody tr th:only-of-type {\n",
       "        vertical-align: middle;\n",
       "    }\n",
       "\n",
       "    .dataframe tbody tr th {\n",
       "        vertical-align: top;\n",
       "    }\n",
       "\n",
       "    .dataframe thead th {\n",
       "        text-align: right;\n",
       "    }\n",
       "</style>\n",
       "<table border=\"1\" class=\"dataframe\">\n",
       "  <thead>\n",
       "    <tr style=\"text-align: right;\">\n",
       "      <th></th>\n",
       "      <th>id</th>\n",
       "      <th>user_id</th>\n",
       "      <th>call_date</th>\n",
       "      <th>duration</th>\n",
       "    </tr>\n",
       "  </thead>\n",
       "  <tbody>\n",
       "    <tr>\n",
       "      <th>0</th>\n",
       "      <td>1000_93</td>\n",
       "      <td>1000</td>\n",
       "      <td>2018-12-27</td>\n",
       "      <td>8.52</td>\n",
       "    </tr>\n",
       "    <tr>\n",
       "      <th>1</th>\n",
       "      <td>1000_145</td>\n",
       "      <td>1000</td>\n",
       "      <td>2018-12-27</td>\n",
       "      <td>13.66</td>\n",
       "    </tr>\n",
       "    <tr>\n",
       "      <th>2</th>\n",
       "      <td>1000_247</td>\n",
       "      <td>1000</td>\n",
       "      <td>2018-12-27</td>\n",
       "      <td>14.48</td>\n",
       "    </tr>\n",
       "    <tr>\n",
       "      <th>3</th>\n",
       "      <td>1000_309</td>\n",
       "      <td>1000</td>\n",
       "      <td>2018-12-28</td>\n",
       "      <td>5.76</td>\n",
       "    </tr>\n",
       "    <tr>\n",
       "      <th>4</th>\n",
       "      <td>1000_380</td>\n",
       "      <td>1000</td>\n",
       "      <td>2018-12-30</td>\n",
       "      <td>4.22</td>\n",
       "    </tr>\n",
       "  </tbody>\n",
       "</table>\n",
       "</div>"
      ],
      "text/plain": [
       "         id  user_id   call_date  duration\n",
       "0   1000_93     1000  2018-12-27      8.52\n",
       "1  1000_145     1000  2018-12-27     13.66\n",
       "2  1000_247     1000  2018-12-27     14.48\n",
       "3  1000_309     1000  2018-12-28      5.76\n",
       "4  1000_380     1000  2018-12-30      4.22"
      ]
     },
     "execution_count": 5,
     "metadata": {},
     "output_type": "execute_result"
    }
   ],
   "source": [
    "df_call.head()"
   ]
  },
  {
   "cell_type": "code",
   "execution_count": 6,
   "id": "3f4217cd",
   "metadata": {
    "scrolled": true
   },
   "outputs": [
    {
     "data": {
      "text/html": [
       "<div>\n",
       "<style scoped>\n",
       "    .dataframe tbody tr th:only-of-type {\n",
       "        vertical-align: middle;\n",
       "    }\n",
       "\n",
       "    .dataframe tbody tr th {\n",
       "        vertical-align: top;\n",
       "    }\n",
       "\n",
       "    .dataframe thead th {\n",
       "        text-align: right;\n",
       "    }\n",
       "</style>\n",
       "<table border=\"1\" class=\"dataframe\">\n",
       "  <thead>\n",
       "    <tr style=\"text-align: right;\">\n",
       "      <th></th>\n",
       "      <th>user_id</th>\n",
       "      <th>duration</th>\n",
       "    </tr>\n",
       "  </thead>\n",
       "  <tbody>\n",
       "    <tr>\n",
       "      <th>count</th>\n",
       "      <td>137735.000000</td>\n",
       "      <td>137735.000000</td>\n",
       "    </tr>\n",
       "    <tr>\n",
       "      <th>mean</th>\n",
       "      <td>1247.658046</td>\n",
       "      <td>6.745927</td>\n",
       "    </tr>\n",
       "    <tr>\n",
       "      <th>std</th>\n",
       "      <td>139.416268</td>\n",
       "      <td>5.839241</td>\n",
       "    </tr>\n",
       "    <tr>\n",
       "      <th>min</th>\n",
       "      <td>1000.000000</td>\n",
       "      <td>0.000000</td>\n",
       "    </tr>\n",
       "    <tr>\n",
       "      <th>25%</th>\n",
       "      <td>1128.000000</td>\n",
       "      <td>1.290000</td>\n",
       "    </tr>\n",
       "    <tr>\n",
       "      <th>50%</th>\n",
       "      <td>1247.000000</td>\n",
       "      <td>5.980000</td>\n",
       "    </tr>\n",
       "    <tr>\n",
       "      <th>75%</th>\n",
       "      <td>1365.000000</td>\n",
       "      <td>10.690000</td>\n",
       "    </tr>\n",
       "    <tr>\n",
       "      <th>max</th>\n",
       "      <td>1499.000000</td>\n",
       "      <td>37.600000</td>\n",
       "    </tr>\n",
       "  </tbody>\n",
       "</table>\n",
       "</div>"
      ],
      "text/plain": [
       "             user_id       duration\n",
       "count  137735.000000  137735.000000\n",
       "mean     1247.658046       6.745927\n",
       "std       139.416268       5.839241\n",
       "min      1000.000000       0.000000\n",
       "25%      1128.000000       1.290000\n",
       "50%      1247.000000       5.980000\n",
       "75%      1365.000000      10.690000\n",
       "max      1499.000000      37.600000"
      ]
     },
     "execution_count": 6,
     "metadata": {},
     "output_type": "execute_result"
    }
   ],
   "source": [
    "df_call.describe()"
   ]
  },
  {
   "cell_type": "code",
   "execution_count": 7,
   "id": "a01df92b",
   "metadata": {},
   "outputs": [
    {
     "name": "stdout",
     "output_type": "stream",
     "text": [
      "<class 'pandas.core.frame.DataFrame'>\n",
      "RangeIndex: 104825 entries, 0 to 104824\n",
      "Data columns (total 4 columns):\n",
      " #   Column        Non-Null Count   Dtype  \n",
      "---  ------        --------------   -----  \n",
      " 0   id            104825 non-null  object \n",
      " 1   user_id       104825 non-null  int64  \n",
      " 2   session_date  104825 non-null  object \n",
      " 3   mb_used       104825 non-null  float64\n",
      "dtypes: float64(1), int64(1), object(2)\n",
      "memory usage: 3.2+ MB\n"
     ]
    }
   ],
   "source": [
    "df_net.info()"
   ]
  },
  {
   "cell_type": "code",
   "execution_count": 8,
   "id": "1da7fa49",
   "metadata": {},
   "outputs": [
    {
     "data": {
      "text/html": [
       "<div>\n",
       "<style scoped>\n",
       "    .dataframe tbody tr th:only-of-type {\n",
       "        vertical-align: middle;\n",
       "    }\n",
       "\n",
       "    .dataframe tbody tr th {\n",
       "        vertical-align: top;\n",
       "    }\n",
       "\n",
       "    .dataframe thead th {\n",
       "        text-align: right;\n",
       "    }\n",
       "</style>\n",
       "<table border=\"1\" class=\"dataframe\">\n",
       "  <thead>\n",
       "    <tr style=\"text-align: right;\">\n",
       "      <th></th>\n",
       "      <th>id</th>\n",
       "      <th>user_id</th>\n",
       "      <th>session_date</th>\n",
       "      <th>mb_used</th>\n",
       "    </tr>\n",
       "  </thead>\n",
       "  <tbody>\n",
       "    <tr>\n",
       "      <th>0</th>\n",
       "      <td>1000_13</td>\n",
       "      <td>1000</td>\n",
       "      <td>2018-12-29</td>\n",
       "      <td>89.86</td>\n",
       "    </tr>\n",
       "    <tr>\n",
       "      <th>1</th>\n",
       "      <td>1000_204</td>\n",
       "      <td>1000</td>\n",
       "      <td>2018-12-31</td>\n",
       "      <td>0.00</td>\n",
       "    </tr>\n",
       "    <tr>\n",
       "      <th>2</th>\n",
       "      <td>1000_379</td>\n",
       "      <td>1000</td>\n",
       "      <td>2018-12-28</td>\n",
       "      <td>660.40</td>\n",
       "    </tr>\n",
       "    <tr>\n",
       "      <th>3</th>\n",
       "      <td>1000_413</td>\n",
       "      <td>1000</td>\n",
       "      <td>2018-12-26</td>\n",
       "      <td>270.99</td>\n",
       "    </tr>\n",
       "    <tr>\n",
       "      <th>4</th>\n",
       "      <td>1000_442</td>\n",
       "      <td>1000</td>\n",
       "      <td>2018-12-27</td>\n",
       "      <td>880.22</td>\n",
       "    </tr>\n",
       "  </tbody>\n",
       "</table>\n",
       "</div>"
      ],
      "text/plain": [
       "         id  user_id session_date  mb_used\n",
       "0   1000_13     1000   2018-12-29    89.86\n",
       "1  1000_204     1000   2018-12-31     0.00\n",
       "2  1000_379     1000   2018-12-28   660.40\n",
       "3  1000_413     1000   2018-12-26   270.99\n",
       "4  1000_442     1000   2018-12-27   880.22"
      ]
     },
     "execution_count": 8,
     "metadata": {},
     "output_type": "execute_result"
    }
   ],
   "source": [
    "df_net.head()"
   ]
  },
  {
   "cell_type": "code",
   "execution_count": 9,
   "id": "72e1c40a",
   "metadata": {},
   "outputs": [
    {
     "data": {
      "text/html": [
       "<div>\n",
       "<style scoped>\n",
       "    .dataframe tbody tr th:only-of-type {\n",
       "        vertical-align: middle;\n",
       "    }\n",
       "\n",
       "    .dataframe tbody tr th {\n",
       "        vertical-align: top;\n",
       "    }\n",
       "\n",
       "    .dataframe thead th {\n",
       "        text-align: right;\n",
       "    }\n",
       "</style>\n",
       "<table border=\"1\" class=\"dataframe\">\n",
       "  <thead>\n",
       "    <tr style=\"text-align: right;\">\n",
       "      <th></th>\n",
       "      <th>user_id</th>\n",
       "      <th>mb_used</th>\n",
       "    </tr>\n",
       "  </thead>\n",
       "  <tbody>\n",
       "    <tr>\n",
       "      <th>count</th>\n",
       "      <td>104825.000000</td>\n",
       "      <td>104825.000000</td>\n",
       "    </tr>\n",
       "    <tr>\n",
       "      <th>mean</th>\n",
       "      <td>1242.496361</td>\n",
       "      <td>366.713701</td>\n",
       "    </tr>\n",
       "    <tr>\n",
       "      <th>std</th>\n",
       "      <td>142.053913</td>\n",
       "      <td>277.170542</td>\n",
       "    </tr>\n",
       "    <tr>\n",
       "      <th>min</th>\n",
       "      <td>1000.000000</td>\n",
       "      <td>0.000000</td>\n",
       "    </tr>\n",
       "    <tr>\n",
       "      <th>25%</th>\n",
       "      <td>1122.000000</td>\n",
       "      <td>136.080000</td>\n",
       "    </tr>\n",
       "    <tr>\n",
       "      <th>50%</th>\n",
       "      <td>1236.000000</td>\n",
       "      <td>343.980000</td>\n",
       "    </tr>\n",
       "    <tr>\n",
       "      <th>75%</th>\n",
       "      <td>1367.000000</td>\n",
       "      <td>554.610000</td>\n",
       "    </tr>\n",
       "    <tr>\n",
       "      <th>max</th>\n",
       "      <td>1499.000000</td>\n",
       "      <td>1693.470000</td>\n",
       "    </tr>\n",
       "  </tbody>\n",
       "</table>\n",
       "</div>"
      ],
      "text/plain": [
       "             user_id        mb_used\n",
       "count  104825.000000  104825.000000\n",
       "mean     1242.496361     366.713701\n",
       "std       142.053913     277.170542\n",
       "min      1000.000000       0.000000\n",
       "25%      1122.000000     136.080000\n",
       "50%      1236.000000     343.980000\n",
       "75%      1367.000000     554.610000\n",
       "max      1499.000000    1693.470000"
      ]
     },
     "execution_count": 9,
     "metadata": {},
     "output_type": "execute_result"
    }
   ],
   "source": [
    "df_net.describe()"
   ]
  },
  {
   "cell_type": "code",
   "execution_count": 10,
   "id": "bc930319",
   "metadata": {},
   "outputs": [
    {
     "name": "stdout",
     "output_type": "stream",
     "text": [
      "<class 'pandas.core.frame.DataFrame'>\n",
      "RangeIndex: 76051 entries, 0 to 76050\n",
      "Data columns (total 3 columns):\n",
      " #   Column        Non-Null Count  Dtype \n",
      "---  ------        --------------  ----- \n",
      " 0   id            76051 non-null  object\n",
      " 1   user_id       76051 non-null  int64 \n",
      " 2   message_date  76051 non-null  object\n",
      "dtypes: int64(1), object(2)\n",
      "memory usage: 1.7+ MB\n"
     ]
    }
   ],
   "source": [
    "df_msg.info()"
   ]
  },
  {
   "cell_type": "code",
   "execution_count": 11,
   "id": "ec4e0883",
   "metadata": {},
   "outputs": [
    {
     "data": {
      "text/html": [
       "<div>\n",
       "<style scoped>\n",
       "    .dataframe tbody tr th:only-of-type {\n",
       "        vertical-align: middle;\n",
       "    }\n",
       "\n",
       "    .dataframe tbody tr th {\n",
       "        vertical-align: top;\n",
       "    }\n",
       "\n",
       "    .dataframe thead th {\n",
       "        text-align: right;\n",
       "    }\n",
       "</style>\n",
       "<table border=\"1\" class=\"dataframe\">\n",
       "  <thead>\n",
       "    <tr style=\"text-align: right;\">\n",
       "      <th></th>\n",
       "      <th>id</th>\n",
       "      <th>user_id</th>\n",
       "      <th>message_date</th>\n",
       "    </tr>\n",
       "  </thead>\n",
       "  <tbody>\n",
       "    <tr>\n",
       "      <th>0</th>\n",
       "      <td>1000_125</td>\n",
       "      <td>1000</td>\n",
       "      <td>2018-12-27</td>\n",
       "    </tr>\n",
       "    <tr>\n",
       "      <th>1</th>\n",
       "      <td>1000_160</td>\n",
       "      <td>1000</td>\n",
       "      <td>2018-12-31</td>\n",
       "    </tr>\n",
       "    <tr>\n",
       "      <th>2</th>\n",
       "      <td>1000_223</td>\n",
       "      <td>1000</td>\n",
       "      <td>2018-12-31</td>\n",
       "    </tr>\n",
       "    <tr>\n",
       "      <th>3</th>\n",
       "      <td>1000_251</td>\n",
       "      <td>1000</td>\n",
       "      <td>2018-12-27</td>\n",
       "    </tr>\n",
       "    <tr>\n",
       "      <th>4</th>\n",
       "      <td>1000_255</td>\n",
       "      <td>1000</td>\n",
       "      <td>2018-12-26</td>\n",
       "    </tr>\n",
       "  </tbody>\n",
       "</table>\n",
       "</div>"
      ],
      "text/plain": [
       "         id  user_id message_date\n",
       "0  1000_125     1000   2018-12-27\n",
       "1  1000_160     1000   2018-12-31\n",
       "2  1000_223     1000   2018-12-31\n",
       "3  1000_251     1000   2018-12-27\n",
       "4  1000_255     1000   2018-12-26"
      ]
     },
     "execution_count": 11,
     "metadata": {},
     "output_type": "execute_result"
    }
   ],
   "source": [
    "df_msg.head()"
   ]
  },
  {
   "cell_type": "code",
   "execution_count": 12,
   "id": "095ebd84",
   "metadata": {},
   "outputs": [
    {
     "name": "stdout",
     "output_type": "stream",
     "text": [
      "<class 'pandas.core.frame.DataFrame'>\n",
      "RangeIndex: 2 entries, 0 to 1\n",
      "Data columns (total 8 columns):\n",
      " #   Column                 Non-Null Count  Dtype  \n",
      "---  ------                 --------------  -----  \n",
      " 0   messages_included      2 non-null      int64  \n",
      " 1   mb_per_month_included  2 non-null      int64  \n",
      " 2   minutes_included       2 non-null      int64  \n",
      " 3   usd_monthly_pay        2 non-null      int64  \n",
      " 4   usd_per_gb             2 non-null      int64  \n",
      " 5   usd_per_message        2 non-null      float64\n",
      " 6   usd_per_minute         2 non-null      float64\n",
      " 7   plan_name              2 non-null      object \n",
      "dtypes: float64(2), int64(5), object(1)\n",
      "memory usage: 256.0+ bytes\n"
     ]
    }
   ],
   "source": [
    "df_plans.info()"
   ]
  },
  {
   "cell_type": "code",
   "execution_count": 13,
   "id": "fa6ef02f",
   "metadata": {},
   "outputs": [
    {
     "data": {
      "text/html": [
       "<div>\n",
       "<style scoped>\n",
       "    .dataframe tbody tr th:only-of-type {\n",
       "        vertical-align: middle;\n",
       "    }\n",
       "\n",
       "    .dataframe tbody tr th {\n",
       "        vertical-align: top;\n",
       "    }\n",
       "\n",
       "    .dataframe thead th {\n",
       "        text-align: right;\n",
       "    }\n",
       "</style>\n",
       "<table border=\"1\" class=\"dataframe\">\n",
       "  <thead>\n",
       "    <tr style=\"text-align: right;\">\n",
       "      <th></th>\n",
       "      <th>messages_included</th>\n",
       "      <th>mb_per_month_included</th>\n",
       "      <th>minutes_included</th>\n",
       "      <th>usd_monthly_pay</th>\n",
       "      <th>usd_per_gb</th>\n",
       "      <th>usd_per_message</th>\n",
       "      <th>usd_per_minute</th>\n",
       "      <th>plan_name</th>\n",
       "    </tr>\n",
       "  </thead>\n",
       "  <tbody>\n",
       "    <tr>\n",
       "      <th>0</th>\n",
       "      <td>50</td>\n",
       "      <td>15360</td>\n",
       "      <td>500</td>\n",
       "      <td>20</td>\n",
       "      <td>10</td>\n",
       "      <td>0.03</td>\n",
       "      <td>0.03</td>\n",
       "      <td>surf</td>\n",
       "    </tr>\n",
       "    <tr>\n",
       "      <th>1</th>\n",
       "      <td>1000</td>\n",
       "      <td>30720</td>\n",
       "      <td>3000</td>\n",
       "      <td>70</td>\n",
       "      <td>7</td>\n",
       "      <td>0.01</td>\n",
       "      <td>0.01</td>\n",
       "      <td>ultimate</td>\n",
       "    </tr>\n",
       "  </tbody>\n",
       "</table>\n",
       "</div>"
      ],
      "text/plain": [
       "   messages_included  mb_per_month_included  minutes_included  \\\n",
       "0                 50                  15360               500   \n",
       "1               1000                  30720              3000   \n",
       "\n",
       "   usd_monthly_pay  usd_per_gb  usd_per_message  usd_per_minute plan_name  \n",
       "0               20          10             0.03            0.03      surf  \n",
       "1               70           7             0.01            0.01  ultimate  "
      ]
     },
     "execution_count": 13,
     "metadata": {},
     "output_type": "execute_result"
    }
   ],
   "source": [
    "df_plans.head()"
   ]
  },
  {
   "cell_type": "code",
   "execution_count": 14,
   "id": "7784e5bb",
   "metadata": {},
   "outputs": [
    {
     "data": {
      "text/html": [
       "<div>\n",
       "<style scoped>\n",
       "    .dataframe tbody tr th:only-of-type {\n",
       "        vertical-align: middle;\n",
       "    }\n",
       "\n",
       "    .dataframe tbody tr th {\n",
       "        vertical-align: top;\n",
       "    }\n",
       "\n",
       "    .dataframe thead th {\n",
       "        text-align: right;\n",
       "    }\n",
       "</style>\n",
       "<table border=\"1\" class=\"dataframe\">\n",
       "  <thead>\n",
       "    <tr style=\"text-align: right;\">\n",
       "      <th></th>\n",
       "      <th>messages_included</th>\n",
       "      <th>mb_per_month_included</th>\n",
       "      <th>minutes_included</th>\n",
       "      <th>usd_monthly_pay</th>\n",
       "      <th>usd_per_gb</th>\n",
       "      <th>usd_per_message</th>\n",
       "      <th>usd_per_minute</th>\n",
       "    </tr>\n",
       "  </thead>\n",
       "  <tbody>\n",
       "    <tr>\n",
       "      <th>count</th>\n",
       "      <td>2.000000</td>\n",
       "      <td>2.000000</td>\n",
       "      <td>2.000000</td>\n",
       "      <td>2.000000</td>\n",
       "      <td>2.00000</td>\n",
       "      <td>2.000000</td>\n",
       "      <td>2.000000</td>\n",
       "    </tr>\n",
       "    <tr>\n",
       "      <th>mean</th>\n",
       "      <td>525.000000</td>\n",
       "      <td>23040.000000</td>\n",
       "      <td>1750.000000</td>\n",
       "      <td>45.000000</td>\n",
       "      <td>8.50000</td>\n",
       "      <td>0.020000</td>\n",
       "      <td>0.020000</td>\n",
       "    </tr>\n",
       "    <tr>\n",
       "      <th>std</th>\n",
       "      <td>671.751442</td>\n",
       "      <td>10861.160159</td>\n",
       "      <td>1767.766953</td>\n",
       "      <td>35.355339</td>\n",
       "      <td>2.12132</td>\n",
       "      <td>0.014142</td>\n",
       "      <td>0.014142</td>\n",
       "    </tr>\n",
       "    <tr>\n",
       "      <th>min</th>\n",
       "      <td>50.000000</td>\n",
       "      <td>15360.000000</td>\n",
       "      <td>500.000000</td>\n",
       "      <td>20.000000</td>\n",
       "      <td>7.00000</td>\n",
       "      <td>0.010000</td>\n",
       "      <td>0.010000</td>\n",
       "    </tr>\n",
       "    <tr>\n",
       "      <th>25%</th>\n",
       "      <td>287.500000</td>\n",
       "      <td>19200.000000</td>\n",
       "      <td>1125.000000</td>\n",
       "      <td>32.500000</td>\n",
       "      <td>7.75000</td>\n",
       "      <td>0.015000</td>\n",
       "      <td>0.015000</td>\n",
       "    </tr>\n",
       "    <tr>\n",
       "      <th>50%</th>\n",
       "      <td>525.000000</td>\n",
       "      <td>23040.000000</td>\n",
       "      <td>1750.000000</td>\n",
       "      <td>45.000000</td>\n",
       "      <td>8.50000</td>\n",
       "      <td>0.020000</td>\n",
       "      <td>0.020000</td>\n",
       "    </tr>\n",
       "    <tr>\n",
       "      <th>75%</th>\n",
       "      <td>762.500000</td>\n",
       "      <td>26880.000000</td>\n",
       "      <td>2375.000000</td>\n",
       "      <td>57.500000</td>\n",
       "      <td>9.25000</td>\n",
       "      <td>0.025000</td>\n",
       "      <td>0.025000</td>\n",
       "    </tr>\n",
       "    <tr>\n",
       "      <th>max</th>\n",
       "      <td>1000.000000</td>\n",
       "      <td>30720.000000</td>\n",
       "      <td>3000.000000</td>\n",
       "      <td>70.000000</td>\n",
       "      <td>10.00000</td>\n",
       "      <td>0.030000</td>\n",
       "      <td>0.030000</td>\n",
       "    </tr>\n",
       "  </tbody>\n",
       "</table>\n",
       "</div>"
      ],
      "text/plain": [
       "       messages_included  mb_per_month_included  minutes_included  \\\n",
       "count           2.000000               2.000000          2.000000   \n",
       "mean          525.000000           23040.000000       1750.000000   \n",
       "std           671.751442           10861.160159       1767.766953   \n",
       "min            50.000000           15360.000000        500.000000   \n",
       "25%           287.500000           19200.000000       1125.000000   \n",
       "50%           525.000000           23040.000000       1750.000000   \n",
       "75%           762.500000           26880.000000       2375.000000   \n",
       "max          1000.000000           30720.000000       3000.000000   \n",
       "\n",
       "       usd_monthly_pay  usd_per_gb  usd_per_message  usd_per_minute  \n",
       "count         2.000000     2.00000         2.000000        2.000000  \n",
       "mean         45.000000     8.50000         0.020000        0.020000  \n",
       "std          35.355339     2.12132         0.014142        0.014142  \n",
       "min          20.000000     7.00000         0.010000        0.010000  \n",
       "25%          32.500000     7.75000         0.015000        0.015000  \n",
       "50%          45.000000     8.50000         0.020000        0.020000  \n",
       "75%          57.500000     9.25000         0.025000        0.025000  \n",
       "max          70.000000    10.00000         0.030000        0.030000  "
      ]
     },
     "execution_count": 14,
     "metadata": {},
     "output_type": "execute_result"
    }
   ],
   "source": [
    "df_plans.describe()"
   ]
  },
  {
   "cell_type": "code",
   "execution_count": 15,
   "id": "98d49015",
   "metadata": {},
   "outputs": [
    {
     "name": "stdout",
     "output_type": "stream",
     "text": [
      "<class 'pandas.core.frame.DataFrame'>\n",
      "RangeIndex: 500 entries, 0 to 499\n",
      "Data columns (total 8 columns):\n",
      " #   Column      Non-Null Count  Dtype \n",
      "---  ------      --------------  ----- \n",
      " 0   user_id     500 non-null    int64 \n",
      " 1   first_name  500 non-null    object\n",
      " 2   last_name   500 non-null    object\n",
      " 3   age         500 non-null    int64 \n",
      " 4   city        500 non-null    object\n",
      " 5   reg_date    500 non-null    object\n",
      " 6   plan        500 non-null    object\n",
      " 7   churn_date  34 non-null     object\n",
      "dtypes: int64(2), object(6)\n",
      "memory usage: 31.4+ KB\n"
     ]
    }
   ],
   "source": [
    "df_user.info()"
   ]
  },
  {
   "cell_type": "code",
   "execution_count": 16,
   "id": "8562a843",
   "metadata": {},
   "outputs": [
    {
     "data": {
      "text/html": [
       "<div>\n",
       "<style scoped>\n",
       "    .dataframe tbody tr th:only-of-type {\n",
       "        vertical-align: middle;\n",
       "    }\n",
       "\n",
       "    .dataframe tbody tr th {\n",
       "        vertical-align: top;\n",
       "    }\n",
       "\n",
       "    .dataframe thead th {\n",
       "        text-align: right;\n",
       "    }\n",
       "</style>\n",
       "<table border=\"1\" class=\"dataframe\">\n",
       "  <thead>\n",
       "    <tr style=\"text-align: right;\">\n",
       "      <th></th>\n",
       "      <th>user_id</th>\n",
       "      <th>first_name</th>\n",
       "      <th>last_name</th>\n",
       "      <th>age</th>\n",
       "      <th>city</th>\n",
       "      <th>reg_date</th>\n",
       "      <th>plan</th>\n",
       "      <th>churn_date</th>\n",
       "    </tr>\n",
       "  </thead>\n",
       "  <tbody>\n",
       "    <tr>\n",
       "      <th>0</th>\n",
       "      <td>1000</td>\n",
       "      <td>Anamaria</td>\n",
       "      <td>Bauer</td>\n",
       "      <td>45</td>\n",
       "      <td>Atlanta-Sandy Springs-Roswell, GA MSA</td>\n",
       "      <td>2018-12-24</td>\n",
       "      <td>ultimate</td>\n",
       "      <td>NaN</td>\n",
       "    </tr>\n",
       "    <tr>\n",
       "      <th>1</th>\n",
       "      <td>1001</td>\n",
       "      <td>Mickey</td>\n",
       "      <td>Wilkerson</td>\n",
       "      <td>28</td>\n",
       "      <td>Seattle-Tacoma-Bellevue, WA MSA</td>\n",
       "      <td>2018-08-13</td>\n",
       "      <td>surf</td>\n",
       "      <td>NaN</td>\n",
       "    </tr>\n",
       "    <tr>\n",
       "      <th>2</th>\n",
       "      <td>1002</td>\n",
       "      <td>Carlee</td>\n",
       "      <td>Hoffman</td>\n",
       "      <td>36</td>\n",
       "      <td>Las Vegas-Henderson-Paradise, NV MSA</td>\n",
       "      <td>2018-10-21</td>\n",
       "      <td>surf</td>\n",
       "      <td>NaN</td>\n",
       "    </tr>\n",
       "    <tr>\n",
       "      <th>3</th>\n",
       "      <td>1003</td>\n",
       "      <td>Reynaldo</td>\n",
       "      <td>Jenkins</td>\n",
       "      <td>52</td>\n",
       "      <td>Tulsa, OK MSA</td>\n",
       "      <td>2018-01-28</td>\n",
       "      <td>surf</td>\n",
       "      <td>NaN</td>\n",
       "    </tr>\n",
       "    <tr>\n",
       "      <th>4</th>\n",
       "      <td>1004</td>\n",
       "      <td>Leonila</td>\n",
       "      <td>Thompson</td>\n",
       "      <td>40</td>\n",
       "      <td>Seattle-Tacoma-Bellevue, WA MSA</td>\n",
       "      <td>2018-05-23</td>\n",
       "      <td>surf</td>\n",
       "      <td>NaN</td>\n",
       "    </tr>\n",
       "  </tbody>\n",
       "</table>\n",
       "</div>"
      ],
      "text/plain": [
       "   user_id first_name  last_name  age                                   city  \\\n",
       "0     1000   Anamaria      Bauer   45  Atlanta-Sandy Springs-Roswell, GA MSA   \n",
       "1     1001     Mickey  Wilkerson   28        Seattle-Tacoma-Bellevue, WA MSA   \n",
       "2     1002     Carlee    Hoffman   36   Las Vegas-Henderson-Paradise, NV MSA   \n",
       "3     1003   Reynaldo    Jenkins   52                          Tulsa, OK MSA   \n",
       "4     1004    Leonila   Thompson   40        Seattle-Tacoma-Bellevue, WA MSA   \n",
       "\n",
       "     reg_date      plan churn_date  \n",
       "0  2018-12-24  ultimate        NaN  \n",
       "1  2018-08-13      surf        NaN  \n",
       "2  2018-10-21      surf        NaN  \n",
       "3  2018-01-28      surf        NaN  \n",
       "4  2018-05-23      surf        NaN  "
      ]
     },
     "execution_count": 16,
     "metadata": {},
     "output_type": "execute_result"
    }
   ],
   "source": [
    "df_user.head()"
   ]
  },
  {
   "cell_type": "code",
   "execution_count": 17,
   "id": "b8c74393",
   "metadata": {},
   "outputs": [
    {
     "data": {
      "text/html": [
       "<div>\n",
       "<style scoped>\n",
       "    .dataframe tbody tr th:only-of-type {\n",
       "        vertical-align: middle;\n",
       "    }\n",
       "\n",
       "    .dataframe tbody tr th {\n",
       "        vertical-align: top;\n",
       "    }\n",
       "\n",
       "    .dataframe thead th {\n",
       "        text-align: right;\n",
       "    }\n",
       "</style>\n",
       "<table border=\"1\" class=\"dataframe\">\n",
       "  <thead>\n",
       "    <tr style=\"text-align: right;\">\n",
       "      <th></th>\n",
       "      <th>user_id</th>\n",
       "      <th>age</th>\n",
       "    </tr>\n",
       "  </thead>\n",
       "  <tbody>\n",
       "    <tr>\n",
       "      <th>count</th>\n",
       "      <td>500.000000</td>\n",
       "      <td>500.000000</td>\n",
       "    </tr>\n",
       "    <tr>\n",
       "      <th>mean</th>\n",
       "      <td>1249.500000</td>\n",
       "      <td>45.486000</td>\n",
       "    </tr>\n",
       "    <tr>\n",
       "      <th>std</th>\n",
       "      <td>144.481833</td>\n",
       "      <td>16.972269</td>\n",
       "    </tr>\n",
       "    <tr>\n",
       "      <th>min</th>\n",
       "      <td>1000.000000</td>\n",
       "      <td>18.000000</td>\n",
       "    </tr>\n",
       "    <tr>\n",
       "      <th>25%</th>\n",
       "      <td>1124.750000</td>\n",
       "      <td>30.000000</td>\n",
       "    </tr>\n",
       "    <tr>\n",
       "      <th>50%</th>\n",
       "      <td>1249.500000</td>\n",
       "      <td>46.000000</td>\n",
       "    </tr>\n",
       "    <tr>\n",
       "      <th>75%</th>\n",
       "      <td>1374.250000</td>\n",
       "      <td>61.000000</td>\n",
       "    </tr>\n",
       "    <tr>\n",
       "      <th>max</th>\n",
       "      <td>1499.000000</td>\n",
       "      <td>75.000000</td>\n",
       "    </tr>\n",
       "  </tbody>\n",
       "</table>\n",
       "</div>"
      ],
      "text/plain": [
       "           user_id         age\n",
       "count   500.000000  500.000000\n",
       "mean   1249.500000   45.486000\n",
       "std     144.481833   16.972269\n",
       "min    1000.000000   18.000000\n",
       "25%    1124.750000   30.000000\n",
       "50%    1249.500000   46.000000\n",
       "75%    1374.250000   61.000000\n",
       "max    1499.000000   75.000000"
      ]
     },
     "execution_count": 17,
     "metadata": {},
     "output_type": "execute_result"
    }
   ],
   "source": [
    "df_user.describe()"
   ]
  },
  {
   "cell_type": "markdown",
   "id": "20187d83",
   "metadata": {},
   "source": [
    "# Explorando os dados iniciais\n",
    "\n",
    "    Conforme analisado as informações das tabelas, pode-se concluir que é necessário:\n",
    "- Apagar os dados refentes as linhas canceladas, pois vão se distanciar da tabela.\n",
    "- Definir como tipo 'datetime' as colunas referente a data da ligação, sessão de internet e mensagem."
   ]
  },
  {
   "cell_type": "code",
   "execution_count": 18,
   "id": "42233c15",
   "metadata": {},
   "outputs": [],
   "source": [
    "df_user=df_user.drop(df_user[df_user['churn_date'].isna()==False].index)"
   ]
  },
  {
   "cell_type": "code",
   "execution_count": 19,
   "id": "ea5fdd25",
   "metadata": {},
   "outputs": [],
   "source": [
    "df_user=df_user.drop(columns='churn_date')"
   ]
  },
  {
   "cell_type": "code",
   "execution_count": 20,
   "id": "fbce4b50",
   "metadata": {},
   "outputs": [
    {
     "data": {
      "text/plain": [
       "0         2018-12-27\n",
       "1         2018-12-27\n",
       "2         2018-12-27\n",
       "3         2018-12-28\n",
       "4         2018-12-30\n",
       "             ...    \n",
       "137730    2018-11-21\n",
       "137731    2018-10-20\n",
       "137732    2018-09-21\n",
       "137733    2018-10-10\n",
       "137734    2018-12-29\n",
       "Name: call_date, Length: 137735, dtype: object"
      ]
     },
     "execution_count": 20,
     "metadata": {},
     "output_type": "execute_result"
    }
   ],
   "source": [
    "df_call['call_date']"
   ]
  },
  {
   "cell_type": "code",
   "execution_count": 21,
   "id": "38328b38",
   "metadata": {},
   "outputs": [],
   "source": [
    "df_call['call_date'] = pd.to_datetime(df_call['call_date'], format='%Y-%m-%d')"
   ]
  },
  {
   "cell_type": "code",
   "execution_count": 22,
   "id": "6240094d",
   "metadata": {},
   "outputs": [],
   "source": [
    "df_msg['message_date']= pd.to_datetime(df_msg['message_date'], format='%Y-%m-%d')"
   ]
  },
  {
   "cell_type": "code",
   "execution_count": 23,
   "id": "7e29c3b4",
   "metadata": {},
   "outputs": [],
   "source": [
    "df_net['session_date'] = pd.to_datetime(df_net['session_date'], format='%Y-%m-%d')"
   ]
  },
  {
   "cell_type": "code",
   "execution_count": 24,
   "id": "e33e468e",
   "metadata": {},
   "outputs": [
    {
     "name": "stdout",
     "output_type": "stream",
     "text": [
      "<class 'pandas.core.series.Series'>\n",
      "RangeIndex: 137735 entries, 0 to 137734\n",
      "Series name: call_date\n",
      "Non-Null Count   Dtype         \n",
      "--------------   -----         \n",
      "137735 non-null  datetime64[ns]\n",
      "dtypes: datetime64[ns](1)\n",
      "memory usage: 1.1 MB\n"
     ]
    }
   ],
   "source": [
    "df_call['call_date'].info()"
   ]
  },
  {
   "cell_type": "code",
   "execution_count": 25,
   "id": "719ee9d6",
   "metadata": {
    "scrolled": true
   },
   "outputs": [
    {
     "name": "stdout",
     "output_type": "stream",
     "text": [
      "<class 'pandas.core.series.Series'>\n",
      "RangeIndex: 104825 entries, 0 to 104824\n",
      "Series name: session_date\n",
      "Non-Null Count   Dtype         \n",
      "--------------   -----         \n",
      "104825 non-null  datetime64[ns]\n",
      "dtypes: datetime64[ns](1)\n",
      "memory usage: 819.1 KB\n"
     ]
    }
   ],
   "source": [
    "df_net['session_date'].info()"
   ]
  },
  {
   "cell_type": "code",
   "execution_count": 26,
   "id": "a8d4eecd",
   "metadata": {},
   "outputs": [
    {
     "data": {
      "text/plain": [
       "count    137735.000000\n",
       "mean          6.745927\n",
       "std           5.839241\n",
       "min           0.000000\n",
       "25%           1.290000\n",
       "50%           5.980000\n",
       "75%          10.690000\n",
       "max          37.600000\n",
       "Name: duration, dtype: float64"
      ]
     },
     "execution_count": 26,
     "metadata": {},
     "output_type": "execute_result"
    }
   ],
   "source": [
    "df_call['duration'].describe()"
   ]
  },
  {
   "cell_type": "code",
   "execution_count": 27,
   "id": "d17fc370",
   "metadata": {
    "scrolled": true
   },
   "outputs": [
    {
     "data": {
      "text/plain": [
       "count    137735.000000\n",
       "mean          6.745927\n",
       "std           5.839241\n",
       "min           0.000000\n",
       "25%           1.290000\n",
       "50%           5.980000\n",
       "75%          10.690000\n",
       "max          37.600000\n",
       "Name: duration, dtype: float64"
      ]
     },
     "execution_count": 27,
     "metadata": {},
     "output_type": "execute_result"
    }
   ],
   "source": [
    "df_call['duration'].describe()"
   ]
  },
  {
   "cell_type": "markdown",
   "id": "1b72acdf",
   "metadata": {},
   "source": [
    "Dados corrigidos!"
   ]
  },
  {
   "cell_type": "markdown",
   "id": "5f4c4518",
   "metadata": {},
   "source": [
    "## Enriquecendo dados\n",
    "- Renomeando as colunas para fundir os dataframes.\n",
    "- Criando tabela dinâmica baseada no número de ligações, duração, número de mensagens e uso de internet\n",
    "- Fundindo todas as tabelas, e adicionando na dinâmica a idade, local e plano de cada usuário.\n",
    "- Aplicando função para calcular preço para cada usuário, partindo de cada plano."
   ]
  },
  {
   "cell_type": "code",
   "execution_count": 28,
   "id": "24f27f86",
   "metadata": {},
   "outputs": [],
   "source": [
    "df_call=df_call.rename(columns={'call_date':'date'})"
   ]
  },
  {
   "cell_type": "code",
   "execution_count": 29,
   "id": "73397704",
   "metadata": {},
   "outputs": [],
   "source": [
    "df_call=df_call.rename(columns={'id':'num_calls'})"
   ]
  },
  {
   "cell_type": "code",
   "execution_count": 30,
   "id": "bdc91990",
   "metadata": {
    "scrolled": true
   },
   "outputs": [],
   "source": [
    "df_msg=df_msg.rename(columns={'message_date':'date'})"
   ]
  },
  {
   "cell_type": "code",
   "execution_count": 31,
   "id": "5e997256",
   "metadata": {},
   "outputs": [],
   "source": [
    "df_msg=df_msg.rename(columns={'id':'num_msgs'})"
   ]
  },
  {
   "cell_type": "code",
   "execution_count": 32,
   "id": "aa885aa8",
   "metadata": {},
   "outputs": [],
   "source": [
    "df_net=df_net.rename(columns={'session_date':'date'})"
   ]
  },
  {
   "cell_type": "markdown",
   "id": "154a36ce",
   "metadata": {},
   "source": [
    "- Criando tabela dinâmica baseada no número de ligações, duração, número de mensagens e uso de internet."
   ]
  },
  {
   "cell_type": "code",
   "execution_count": 33,
   "id": "5882fbf1",
   "metadata": {},
   "outputs": [],
   "source": [
    "pivot_calls=df_call.pivot_table(index=['user_id', df_call['date'].dt.month], values='num_calls', aggfunc='count')"
   ]
  },
  {
   "cell_type": "code",
   "execution_count": 34,
   "id": "717c4ed9",
   "metadata": {
    "scrolled": false
   },
   "outputs": [
    {
     "data": {
      "text/html": [
       "<div>\n",
       "<style scoped>\n",
       "    .dataframe tbody tr th:only-of-type {\n",
       "        vertical-align: middle;\n",
       "    }\n",
       "\n",
       "    .dataframe tbody tr th {\n",
       "        vertical-align: top;\n",
       "    }\n",
       "\n",
       "    .dataframe thead th {\n",
       "        text-align: right;\n",
       "    }\n",
       "</style>\n",
       "<table border=\"1\" class=\"dataframe\">\n",
       "  <thead>\n",
       "    <tr style=\"text-align: right;\">\n",
       "      <th></th>\n",
       "      <th></th>\n",
       "      <th>num_calls</th>\n",
       "    </tr>\n",
       "    <tr>\n",
       "      <th>user_id</th>\n",
       "      <th>date</th>\n",
       "      <th></th>\n",
       "    </tr>\n",
       "  </thead>\n",
       "  <tbody>\n",
       "    <tr>\n",
       "      <th>1000</th>\n",
       "      <th>12</th>\n",
       "      <td>16</td>\n",
       "    </tr>\n",
       "    <tr>\n",
       "      <th rowspan=\"4\" valign=\"top\">1001</th>\n",
       "      <th>8</th>\n",
       "      <td>27</td>\n",
       "    </tr>\n",
       "    <tr>\n",
       "      <th>9</th>\n",
       "      <td>49</td>\n",
       "    </tr>\n",
       "    <tr>\n",
       "      <th>10</th>\n",
       "      <td>65</td>\n",
       "    </tr>\n",
       "    <tr>\n",
       "      <th>11</th>\n",
       "      <td>64</td>\n",
       "    </tr>\n",
       "    <tr>\n",
       "      <th>...</th>\n",
       "      <th>...</th>\n",
       "      <td>...</td>\n",
       "    </tr>\n",
       "    <tr>\n",
       "      <th>1498</th>\n",
       "      <th>12</th>\n",
       "      <td>39</td>\n",
       "    </tr>\n",
       "    <tr>\n",
       "      <th rowspan=\"4\" valign=\"top\">1499</th>\n",
       "      <th>9</th>\n",
       "      <td>41</td>\n",
       "    </tr>\n",
       "    <tr>\n",
       "      <th>10</th>\n",
       "      <td>53</td>\n",
       "    </tr>\n",
       "    <tr>\n",
       "      <th>11</th>\n",
       "      <td>45</td>\n",
       "    </tr>\n",
       "    <tr>\n",
       "      <th>12</th>\n",
       "      <td>65</td>\n",
       "    </tr>\n",
       "  </tbody>\n",
       "</table>\n",
       "<p>2258 rows × 1 columns</p>\n",
       "</div>"
      ],
      "text/plain": [
       "              num_calls\n",
       "user_id date           \n",
       "1000    12           16\n",
       "1001    8            27\n",
       "        9            49\n",
       "        10           65\n",
       "        11           64\n",
       "...                 ...\n",
       "1498    12           39\n",
       "1499    9            41\n",
       "        10           53\n",
       "        11           45\n",
       "        12           65\n",
       "\n",
       "[2258 rows x 1 columns]"
      ]
     },
     "execution_count": 34,
     "metadata": {},
     "output_type": "execute_result"
    }
   ],
   "source": [
    "pivot_calls"
   ]
  },
  {
   "cell_type": "code",
   "execution_count": 35,
   "id": "8d5612e0",
   "metadata": {},
   "outputs": [],
   "source": [
    "pivot_duration=df_call.pivot_table(index=['user_id', df_call['date'].dt.month], values='duration', aggfunc='sum')"
   ]
  },
  {
   "cell_type": "code",
   "execution_count": 36,
   "id": "13a5fb0c",
   "metadata": {},
   "outputs": [
    {
     "data": {
      "text/html": [
       "<div>\n",
       "<style scoped>\n",
       "    .dataframe tbody tr th:only-of-type {\n",
       "        vertical-align: middle;\n",
       "    }\n",
       "\n",
       "    .dataframe tbody tr th {\n",
       "        vertical-align: top;\n",
       "    }\n",
       "\n",
       "    .dataframe thead th {\n",
       "        text-align: right;\n",
       "    }\n",
       "</style>\n",
       "<table border=\"1\" class=\"dataframe\">\n",
       "  <thead>\n",
       "    <tr style=\"text-align: right;\">\n",
       "      <th></th>\n",
       "      <th></th>\n",
       "      <th>duration</th>\n",
       "    </tr>\n",
       "    <tr>\n",
       "      <th>user_id</th>\n",
       "      <th>date</th>\n",
       "      <th></th>\n",
       "    </tr>\n",
       "  </thead>\n",
       "  <tbody>\n",
       "    <tr>\n",
       "      <th>1000</th>\n",
       "      <th>12</th>\n",
       "      <td>116.83</td>\n",
       "    </tr>\n",
       "    <tr>\n",
       "      <th rowspan=\"4\" valign=\"top\">1001</th>\n",
       "      <th>8</th>\n",
       "      <td>171.14</td>\n",
       "    </tr>\n",
       "    <tr>\n",
       "      <th>9</th>\n",
       "      <td>297.69</td>\n",
       "    </tr>\n",
       "    <tr>\n",
       "      <th>10</th>\n",
       "      <td>374.11</td>\n",
       "    </tr>\n",
       "    <tr>\n",
       "      <th>11</th>\n",
       "      <td>404.59</td>\n",
       "    </tr>\n",
       "    <tr>\n",
       "      <th>...</th>\n",
       "      <th>...</th>\n",
       "      <td>...</td>\n",
       "    </tr>\n",
       "    <tr>\n",
       "      <th>1498</th>\n",
       "      <th>12</th>\n",
       "      <td>324.77</td>\n",
       "    </tr>\n",
       "    <tr>\n",
       "      <th rowspan=\"4\" valign=\"top\">1499</th>\n",
       "      <th>9</th>\n",
       "      <td>330.37</td>\n",
       "    </tr>\n",
       "    <tr>\n",
       "      <th>10</th>\n",
       "      <td>363.28</td>\n",
       "    </tr>\n",
       "    <tr>\n",
       "      <th>11</th>\n",
       "      <td>288.56</td>\n",
       "    </tr>\n",
       "    <tr>\n",
       "      <th>12</th>\n",
       "      <td>468.10</td>\n",
       "    </tr>\n",
       "  </tbody>\n",
       "</table>\n",
       "<p>2258 rows × 1 columns</p>\n",
       "</div>"
      ],
      "text/plain": [
       "              duration\n",
       "user_id date          \n",
       "1000    12      116.83\n",
       "1001    8       171.14\n",
       "        9       297.69\n",
       "        10      374.11\n",
       "        11      404.59\n",
       "...                ...\n",
       "1498    12      324.77\n",
       "1499    9       330.37\n",
       "        10      363.28\n",
       "        11      288.56\n",
       "        12      468.10\n",
       "\n",
       "[2258 rows x 1 columns]"
      ]
     },
     "execution_count": 36,
     "metadata": {},
     "output_type": "execute_result"
    }
   ],
   "source": [
    "pivot_duration"
   ]
  },
  {
   "cell_type": "code",
   "execution_count": 37,
   "id": "7782af47",
   "metadata": {},
   "outputs": [],
   "source": [
    "pivot_msg=df_msg.pivot_table(index=['user_id', df_msg['date'].dt.month], values='num_msgs', aggfunc='count')"
   ]
  },
  {
   "cell_type": "markdown",
   "id": "52ab5f01",
   "metadata": {},
   "source": [
    "pivot_msg.index(index={'message_date': 'Date'})"
   ]
  },
  {
   "cell_type": "code",
   "execution_count": 38,
   "id": "1a36d3d7",
   "metadata": {},
   "outputs": [
    {
     "data": {
      "text/html": [
       "<div>\n",
       "<style scoped>\n",
       "    .dataframe tbody tr th:only-of-type {\n",
       "        vertical-align: middle;\n",
       "    }\n",
       "\n",
       "    .dataframe tbody tr th {\n",
       "        vertical-align: top;\n",
       "    }\n",
       "\n",
       "    .dataframe thead th {\n",
       "        text-align: right;\n",
       "    }\n",
       "</style>\n",
       "<table border=\"1\" class=\"dataframe\">\n",
       "  <thead>\n",
       "    <tr style=\"text-align: right;\">\n",
       "      <th></th>\n",
       "      <th></th>\n",
       "      <th>num_msgs</th>\n",
       "    </tr>\n",
       "    <tr>\n",
       "      <th>user_id</th>\n",
       "      <th>date</th>\n",
       "      <th></th>\n",
       "    </tr>\n",
       "  </thead>\n",
       "  <tbody>\n",
       "    <tr>\n",
       "      <th>1000</th>\n",
       "      <th>12</th>\n",
       "      <td>11</td>\n",
       "    </tr>\n",
       "    <tr>\n",
       "      <th rowspan=\"4\" valign=\"top\">1001</th>\n",
       "      <th>8</th>\n",
       "      <td>30</td>\n",
       "    </tr>\n",
       "    <tr>\n",
       "      <th>9</th>\n",
       "      <td>44</td>\n",
       "    </tr>\n",
       "    <tr>\n",
       "      <th>10</th>\n",
       "      <td>53</td>\n",
       "    </tr>\n",
       "    <tr>\n",
       "      <th>11</th>\n",
       "      <td>36</td>\n",
       "    </tr>\n",
       "    <tr>\n",
       "      <th>...</th>\n",
       "      <th>...</th>\n",
       "      <td>...</td>\n",
       "    </tr>\n",
       "    <tr>\n",
       "      <th rowspan=\"4\" valign=\"top\">1496</th>\n",
       "      <th>9</th>\n",
       "      <td>21</td>\n",
       "    </tr>\n",
       "    <tr>\n",
       "      <th>10</th>\n",
       "      <td>18</td>\n",
       "    </tr>\n",
       "    <tr>\n",
       "      <th>11</th>\n",
       "      <td>13</td>\n",
       "    </tr>\n",
       "    <tr>\n",
       "      <th>12</th>\n",
       "      <td>11</td>\n",
       "    </tr>\n",
       "    <tr>\n",
       "      <th>1497</th>\n",
       "      <th>12</th>\n",
       "      <td>50</td>\n",
       "    </tr>\n",
       "  </tbody>\n",
       "</table>\n",
       "<p>1806 rows × 1 columns</p>\n",
       "</div>"
      ],
      "text/plain": [
       "              num_msgs\n",
       "user_id date          \n",
       "1000    12          11\n",
       "1001    8           30\n",
       "        9           44\n",
       "        10          53\n",
       "        11          36\n",
       "...                ...\n",
       "1496    9           21\n",
       "        10          18\n",
       "        11          13\n",
       "        12          11\n",
       "1497    12          50\n",
       "\n",
       "[1806 rows x 1 columns]"
      ]
     },
     "execution_count": 38,
     "metadata": {},
     "output_type": "execute_result"
    }
   ],
   "source": [
    "pivot_msg"
   ]
  },
  {
   "cell_type": "code",
   "execution_count": 39,
   "id": "2e6edc6f",
   "metadata": {},
   "outputs": [],
   "source": [
    "pivot_net=df_net.pivot_table(index=['user_id', df_net['date'].dt.month], values='mb_used', aggfunc='sum')"
   ]
  },
  {
   "cell_type": "code",
   "execution_count": 40,
   "id": "138f6cbf",
   "metadata": {},
   "outputs": [
    {
     "data": {
      "text/html": [
       "<div>\n",
       "<style scoped>\n",
       "    .dataframe tbody tr th:only-of-type {\n",
       "        vertical-align: middle;\n",
       "    }\n",
       "\n",
       "    .dataframe tbody tr th {\n",
       "        vertical-align: top;\n",
       "    }\n",
       "\n",
       "    .dataframe thead th {\n",
       "        text-align: right;\n",
       "    }\n",
       "</style>\n",
       "<table border=\"1\" class=\"dataframe\">\n",
       "  <thead>\n",
       "    <tr style=\"text-align: right;\">\n",
       "      <th></th>\n",
       "      <th></th>\n",
       "      <th>mb_used</th>\n",
       "    </tr>\n",
       "    <tr>\n",
       "      <th>user_id</th>\n",
       "      <th>date</th>\n",
       "      <th></th>\n",
       "    </tr>\n",
       "  </thead>\n",
       "  <tbody>\n",
       "    <tr>\n",
       "      <th>1000</th>\n",
       "      <th>12</th>\n",
       "      <td>1901.47</td>\n",
       "    </tr>\n",
       "    <tr>\n",
       "      <th rowspan=\"4\" valign=\"top\">1001</th>\n",
       "      <th>8</th>\n",
       "      <td>6919.15</td>\n",
       "    </tr>\n",
       "    <tr>\n",
       "      <th>9</th>\n",
       "      <td>13314.82</td>\n",
       "    </tr>\n",
       "    <tr>\n",
       "      <th>10</th>\n",
       "      <td>22330.49</td>\n",
       "    </tr>\n",
       "    <tr>\n",
       "      <th>11</th>\n",
       "      <td>18504.30</td>\n",
       "    </tr>\n",
       "    <tr>\n",
       "      <th>...</th>\n",
       "      <th>...</th>\n",
       "      <td>...</td>\n",
       "    </tr>\n",
       "    <tr>\n",
       "      <th>1498</th>\n",
       "      <th>12</th>\n",
       "      <td>23137.69</td>\n",
       "    </tr>\n",
       "    <tr>\n",
       "      <th rowspan=\"4\" valign=\"top\">1499</th>\n",
       "      <th>9</th>\n",
       "      <td>12984.76</td>\n",
       "    </tr>\n",
       "    <tr>\n",
       "      <th>10</th>\n",
       "      <td>19492.43</td>\n",
       "    </tr>\n",
       "    <tr>\n",
       "      <th>11</th>\n",
       "      <td>16813.83</td>\n",
       "    </tr>\n",
       "    <tr>\n",
       "      <th>12</th>\n",
       "      <td>22059.21</td>\n",
       "    </tr>\n",
       "  </tbody>\n",
       "</table>\n",
       "<p>2277 rows × 1 columns</p>\n",
       "</div>"
      ],
      "text/plain": [
       "               mb_used\n",
       "user_id date          \n",
       "1000    12     1901.47\n",
       "1001    8      6919.15\n",
       "        9     13314.82\n",
       "        10    22330.49\n",
       "        11    18504.30\n",
       "...                ...\n",
       "1498    12    23137.69\n",
       "1499    9     12984.76\n",
       "        10    19492.43\n",
       "        11    16813.83\n",
       "        12    22059.21\n",
       "\n",
       "[2277 rows x 1 columns]"
      ]
     },
     "execution_count": 40,
     "metadata": {},
     "output_type": "execute_result"
    }
   ],
   "source": [
    "pivot_net"
   ]
  },
  {
   "cell_type": "markdown",
   "id": "4e29c5a6",
   "metadata": {},
   "source": [
    "- Fundindo todas as tabelas, e adicionando na dinâmica a idade, local e plano de cada usuário."
   ]
  },
  {
   "cell_type": "markdown",
   "id": "8358cf5b",
   "metadata": {},
   "source": [
    "Aplicando reduce, função a qual possibilita adicionar uma lista de dataframes a um merge único.\n",
    "Perceba que aqui nos estamos passando uma lista que tem os dataframes que seram aplicados o merge [pivot_calls, pivot_duration, pivot_msg, pivot_net], usando o reduce e o lambda ele vai fazer com que inicialmente l receba pivot_calls e r será o dataframe pivot_net, e depois l vai ser a junção desses dois dataframes."
   ]
  },
  {
   "cell_type": "code",
   "execution_count": 41,
   "id": "7dded4ae",
   "metadata": {},
   "outputs": [],
   "source": [
    "all_df = reduce(lambda l, r: pd.merge(l, r, on=['user_id', 'date'], how='outer'), [pivot_calls, pivot_duration, pivot_msg, pivot_net])"
   ]
  },
  {
   "cell_type": "markdown",
   "id": "4ce293b2",
   "metadata": {},
   "source": [
    "- Fundindo as tabelas adicionais com merge."
   ]
  },
  {
   "cell_type": "code",
   "execution_count": 42,
   "id": "4ff2584e",
   "metadata": {},
   "outputs": [],
   "source": [
    "all_df = pd.merge(left = all_df.reset_index(), right = df_user[['user_id', 'plan']], how = 'left', on = 'user_id')"
   ]
  },
  {
   "cell_type": "code",
   "execution_count": 43,
   "id": "b4d19758",
   "metadata": {},
   "outputs": [],
   "source": [
    "all_df = pd.merge(left = all_df.reset_index(), right = df_user[['user_id', 'age']], how = 'left', on = 'user_id')"
   ]
  },
  {
   "cell_type": "code",
   "execution_count": 44,
   "id": "0fab8174",
   "metadata": {},
   "outputs": [],
   "source": [
    "all_df = pd.merge(left = all_df.reset_index(), right = df_user[['user_id', 'city']], how = 'left', on = 'user_id')"
   ]
  },
  {
   "cell_type": "markdown",
   "id": "5ac6728c",
   "metadata": {},
   "source": [
    "- Verificando all_df"
   ]
  },
  {
   "cell_type": "code",
   "execution_count": 45,
   "id": "53cedd56",
   "metadata": {},
   "outputs": [
    {
     "data": {
      "text/html": [
       "<div>\n",
       "<style scoped>\n",
       "    .dataframe tbody tr th:only-of-type {\n",
       "        vertical-align: middle;\n",
       "    }\n",
       "\n",
       "    .dataframe tbody tr th {\n",
       "        vertical-align: top;\n",
       "    }\n",
       "\n",
       "    .dataframe thead th {\n",
       "        text-align: right;\n",
       "    }\n",
       "</style>\n",
       "<table border=\"1\" class=\"dataframe\">\n",
       "  <thead>\n",
       "    <tr style=\"text-align: right;\">\n",
       "      <th></th>\n",
       "      <th>level_0</th>\n",
       "      <th>index</th>\n",
       "      <th>user_id</th>\n",
       "      <th>date</th>\n",
       "      <th>num_calls</th>\n",
       "      <th>duration</th>\n",
       "      <th>num_msgs</th>\n",
       "      <th>mb_used</th>\n",
       "      <th>plan</th>\n",
       "      <th>age</th>\n",
       "      <th>city</th>\n",
       "    </tr>\n",
       "  </thead>\n",
       "  <tbody>\n",
       "    <tr>\n",
       "      <th>0</th>\n",
       "      <td>0</td>\n",
       "      <td>0</td>\n",
       "      <td>1000</td>\n",
       "      <td>12</td>\n",
       "      <td>16.0</td>\n",
       "      <td>116.83</td>\n",
       "      <td>11.0</td>\n",
       "      <td>1901.47</td>\n",
       "      <td>ultimate</td>\n",
       "      <td>45.0</td>\n",
       "      <td>Atlanta-Sandy Springs-Roswell, GA MSA</td>\n",
       "    </tr>\n",
       "    <tr>\n",
       "      <th>1</th>\n",
       "      <td>1</td>\n",
       "      <td>1</td>\n",
       "      <td>1001</td>\n",
       "      <td>8</td>\n",
       "      <td>27.0</td>\n",
       "      <td>171.14</td>\n",
       "      <td>30.0</td>\n",
       "      <td>6919.15</td>\n",
       "      <td>surf</td>\n",
       "      <td>28.0</td>\n",
       "      <td>Seattle-Tacoma-Bellevue, WA MSA</td>\n",
       "    </tr>\n",
       "    <tr>\n",
       "      <th>2</th>\n",
       "      <td>2</td>\n",
       "      <td>2</td>\n",
       "      <td>1001</td>\n",
       "      <td>9</td>\n",
       "      <td>49.0</td>\n",
       "      <td>297.69</td>\n",
       "      <td>44.0</td>\n",
       "      <td>13314.82</td>\n",
       "      <td>surf</td>\n",
       "      <td>28.0</td>\n",
       "      <td>Seattle-Tacoma-Bellevue, WA MSA</td>\n",
       "    </tr>\n",
       "    <tr>\n",
       "      <th>3</th>\n",
       "      <td>3</td>\n",
       "      <td>3</td>\n",
       "      <td>1001</td>\n",
       "      <td>10</td>\n",
       "      <td>65.0</td>\n",
       "      <td>374.11</td>\n",
       "      <td>53.0</td>\n",
       "      <td>22330.49</td>\n",
       "      <td>surf</td>\n",
       "      <td>28.0</td>\n",
       "      <td>Seattle-Tacoma-Bellevue, WA MSA</td>\n",
       "    </tr>\n",
       "    <tr>\n",
       "      <th>4</th>\n",
       "      <td>4</td>\n",
       "      <td>4</td>\n",
       "      <td>1001</td>\n",
       "      <td>11</td>\n",
       "      <td>64.0</td>\n",
       "      <td>404.59</td>\n",
       "      <td>36.0</td>\n",
       "      <td>18504.30</td>\n",
       "      <td>surf</td>\n",
       "      <td>28.0</td>\n",
       "      <td>Seattle-Tacoma-Bellevue, WA MSA</td>\n",
       "    </tr>\n",
       "    <tr>\n",
       "      <th>...</th>\n",
       "      <td>...</td>\n",
       "      <td>...</td>\n",
       "      <td>...</td>\n",
       "      <td>...</td>\n",
       "      <td>...</td>\n",
       "      <td>...</td>\n",
       "      <td>...</td>\n",
       "      <td>...</td>\n",
       "      <td>...</td>\n",
       "      <td>...</td>\n",
       "      <td>...</td>\n",
       "    </tr>\n",
       "    <tr>\n",
       "      <th>2288</th>\n",
       "      <td>2288</td>\n",
       "      <td>2288</td>\n",
       "      <td>1349</td>\n",
       "      <td>12</td>\n",
       "      <td>NaN</td>\n",
       "      <td>NaN</td>\n",
       "      <td>61.0</td>\n",
       "      <td>13039.91</td>\n",
       "      <td>surf</td>\n",
       "      <td>69.0</td>\n",
       "      <td>Boston-Cambridge-Newton, MA-NH MSA</td>\n",
       "    </tr>\n",
       "    <tr>\n",
       "      <th>2289</th>\n",
       "      <td>2289</td>\n",
       "      <td>2289</td>\n",
       "      <td>1361</td>\n",
       "      <td>5</td>\n",
       "      <td>NaN</td>\n",
       "      <td>NaN</td>\n",
       "      <td>2.0</td>\n",
       "      <td>1519.69</td>\n",
       "      <td>surf</td>\n",
       "      <td>45.0</td>\n",
       "      <td>Birmingham-Hoover, AL MSA</td>\n",
       "    </tr>\n",
       "    <tr>\n",
       "      <th>2290</th>\n",
       "      <td>2290</td>\n",
       "      <td>2290</td>\n",
       "      <td>1482</td>\n",
       "      <td>10</td>\n",
       "      <td>NaN</td>\n",
       "      <td>NaN</td>\n",
       "      <td>2.0</td>\n",
       "      <td>NaN</td>\n",
       "      <td>ultimate</td>\n",
       "      <td>70.0</td>\n",
       "      <td>New York-Newark-Jersey City, NY-NJ-PA MSA</td>\n",
       "    </tr>\n",
       "    <tr>\n",
       "      <th>2291</th>\n",
       "      <td>2291</td>\n",
       "      <td>2291</td>\n",
       "      <td>1108</td>\n",
       "      <td>12</td>\n",
       "      <td>NaN</td>\n",
       "      <td>NaN</td>\n",
       "      <td>NaN</td>\n",
       "      <td>233.17</td>\n",
       "      <td>ultimate</td>\n",
       "      <td>45.0</td>\n",
       "      <td>Salt Lake City, UT MSA</td>\n",
       "    </tr>\n",
       "    <tr>\n",
       "      <th>2292</th>\n",
       "      <td>2292</td>\n",
       "      <td>2292</td>\n",
       "      <td>1311</td>\n",
       "      <td>6</td>\n",
       "      <td>NaN</td>\n",
       "      <td>NaN</td>\n",
       "      <td>NaN</td>\n",
       "      <td>1498.83</td>\n",
       "      <td>ultimate</td>\n",
       "      <td>69.0</td>\n",
       "      <td>Memphis, TN-MS-AR MSA</td>\n",
       "    </tr>\n",
       "  </tbody>\n",
       "</table>\n",
       "<p>2293 rows × 11 columns</p>\n",
       "</div>"
      ],
      "text/plain": [
       "      level_0  index  user_id  date  num_calls  duration  num_msgs   mb_used  \\\n",
       "0           0      0     1000    12       16.0    116.83      11.0   1901.47   \n",
       "1           1      1     1001     8       27.0    171.14      30.0   6919.15   \n",
       "2           2      2     1001     9       49.0    297.69      44.0  13314.82   \n",
       "3           3      3     1001    10       65.0    374.11      53.0  22330.49   \n",
       "4           4      4     1001    11       64.0    404.59      36.0  18504.30   \n",
       "...       ...    ...      ...   ...        ...       ...       ...       ...   \n",
       "2288     2288   2288     1349    12        NaN       NaN      61.0  13039.91   \n",
       "2289     2289   2289     1361     5        NaN       NaN       2.0   1519.69   \n",
       "2290     2290   2290     1482    10        NaN       NaN       2.0       NaN   \n",
       "2291     2291   2291     1108    12        NaN       NaN       NaN    233.17   \n",
       "2292     2292   2292     1311     6        NaN       NaN       NaN   1498.83   \n",
       "\n",
       "          plan   age                                       city  \n",
       "0     ultimate  45.0      Atlanta-Sandy Springs-Roswell, GA MSA  \n",
       "1         surf  28.0            Seattle-Tacoma-Bellevue, WA MSA  \n",
       "2         surf  28.0            Seattle-Tacoma-Bellevue, WA MSA  \n",
       "3         surf  28.0            Seattle-Tacoma-Bellevue, WA MSA  \n",
       "4         surf  28.0            Seattle-Tacoma-Bellevue, WA MSA  \n",
       "...        ...   ...                                        ...  \n",
       "2288      surf  69.0         Boston-Cambridge-Newton, MA-NH MSA  \n",
       "2289      surf  45.0                  Birmingham-Hoover, AL MSA  \n",
       "2290  ultimate  70.0  New York-Newark-Jersey City, NY-NJ-PA MSA  \n",
       "2291  ultimate  45.0                     Salt Lake City, UT MSA  \n",
       "2292  ultimate  69.0                      Memphis, TN-MS-AR MSA  \n",
       "\n",
       "[2293 rows x 11 columns]"
      ]
     },
     "execution_count": 45,
     "metadata": {},
     "output_type": "execute_result"
    }
   ],
   "source": [
    "all_df"
   ]
  },
  {
   "cell_type": "markdown",
   "id": "db40070f",
   "metadata": {},
   "source": [
    "- Aplicando função para calcular preço para cada usuário, partindo de cada plano."
   ]
  },
  {
   "cell_type": "code",
   "execution_count": 46,
   "id": "c4e70ff5",
   "metadata": {},
   "outputs": [],
   "source": [
    "def price_surf(row):\n",
    "    global all_df\n",
    "    all_surf=all_df.drop(all_df[all_df['plan']=='ultimate'].index)\n",
    "    if (row['user_id'] in (all_surf['user_id'].unique()))==True:\n",
    "        price=0\n",
    "        try:\n",
    "            if math.ceil(row['duration'])>500:\n",
    "                price+=(math.ceil(row['duration'])-500)*0.03\n",
    "        except:\n",
    "            price=0\n",
    "        if row['num_msgs']>50:\n",
    "            price+=(row['num_msgs']-50)*0.03\n",
    "        if row['mb_used']>15360:\n",
    "            price+=((math.ceil(row['mb_used']/1024))-15)*10\n",
    "        return price+20\n",
    "    return None"
   ]
  },
  {
   "cell_type": "code",
   "execution_count": 47,
   "id": "d20fa859",
   "metadata": {
    "scrolled": true
   },
   "outputs": [
    {
     "name": "stdout",
     "output_type": "stream",
     "text": [
      "<class 'pandas.core.frame.DataFrame'>\n",
      "Int64Index: 2293 entries, 0 to 2292\n",
      "Data columns (total 11 columns):\n",
      " #   Column     Non-Null Count  Dtype  \n",
      "---  ------     --------------  -----  \n",
      " 0   level_0    2293 non-null   int64  \n",
      " 1   index      2293 non-null   int64  \n",
      " 2   user_id    2293 non-null   int64  \n",
      " 3   date       2293 non-null   int64  \n",
      " 4   num_calls  2258 non-null   float64\n",
      " 5   duration   2258 non-null   float64\n",
      " 6   num_msgs   1806 non-null   float64\n",
      " 7   mb_used    2277 non-null   float64\n",
      " 8   plan       2135 non-null   object \n",
      " 9   age        2135 non-null   float64\n",
      " 10  city       2135 non-null   object \n",
      "dtypes: float64(5), int64(4), object(2)\n",
      "memory usage: 215.0+ KB\n"
     ]
    }
   ],
   "source": [
    "all_df.info()"
   ]
  },
  {
   "cell_type": "code",
   "execution_count": 48,
   "id": "555b7347",
   "metadata": {
    "scrolled": true
   },
   "outputs": [],
   "source": [
    "all_df['price']=all_df.apply(price_surf, axis=1)"
   ]
  },
  {
   "cell_type": "code",
   "execution_count": 49,
   "id": "45fda621",
   "metadata": {},
   "outputs": [],
   "source": [
    "def price_ultimate(row):\n",
    "    global all_df\n",
    "    all_ultimate=all_df.drop(all_df[all_df['plan']=='surf'].index)\n",
    "    if (row['user_id'] in (all_ultimate['user_id'].unique()))==True:\n",
    "        price=0\n",
    "        try:\n",
    "            if math.ceil(row['duration'])>3000 :\n",
    "                price+=(math.ceil(row['duration'])-3000 )*0.01\n",
    "        except:\n",
    "            price=0\n",
    "        if row['num_msgs']>1000 :\n",
    "            price+=(row['num_msgs']-1000 )*0.01\n",
    "        if row['mb_used']>30720:\n",
    "            price+=((math.ceil(row['mb_used']/1024))-30)*10\n",
    "        return price+70\n",
    "    return row['price']"
   ]
  },
  {
   "cell_type": "code",
   "execution_count": 50,
   "id": "0450481a",
   "metadata": {},
   "outputs": [],
   "source": [
    "all_df['price']=all_df.apply(price_ultimate, axis=1)"
   ]
  },
  {
   "cell_type": "code",
   "execution_count": 51,
   "id": "6a3d5370",
   "metadata": {},
   "outputs": [
    {
     "data": {
      "text/html": [
       "<div>\n",
       "<style scoped>\n",
       "    .dataframe tbody tr th:only-of-type {\n",
       "        vertical-align: middle;\n",
       "    }\n",
       "\n",
       "    .dataframe tbody tr th {\n",
       "        vertical-align: top;\n",
       "    }\n",
       "\n",
       "    .dataframe thead th {\n",
       "        text-align: right;\n",
       "    }\n",
       "</style>\n",
       "<table border=\"1\" class=\"dataframe\">\n",
       "  <thead>\n",
       "    <tr style=\"text-align: right;\">\n",
       "      <th></th>\n",
       "      <th>level_0</th>\n",
       "      <th>index</th>\n",
       "      <th>user_id</th>\n",
       "      <th>date</th>\n",
       "      <th>num_calls</th>\n",
       "      <th>duration</th>\n",
       "      <th>num_msgs</th>\n",
       "      <th>mb_used</th>\n",
       "      <th>plan</th>\n",
       "      <th>age</th>\n",
       "      <th>city</th>\n",
       "      <th>price</th>\n",
       "    </tr>\n",
       "  </thead>\n",
       "  <tbody>\n",
       "    <tr>\n",
       "      <th>0</th>\n",
       "      <td>0</td>\n",
       "      <td>0</td>\n",
       "      <td>1000</td>\n",
       "      <td>12</td>\n",
       "      <td>16.0</td>\n",
       "      <td>116.83</td>\n",
       "      <td>11.0</td>\n",
       "      <td>1901.47</td>\n",
       "      <td>ultimate</td>\n",
       "      <td>45.0</td>\n",
       "      <td>Atlanta-Sandy Springs-Roswell, GA MSA</td>\n",
       "      <td>70.00</td>\n",
       "    </tr>\n",
       "    <tr>\n",
       "      <th>1</th>\n",
       "      <td>1</td>\n",
       "      <td>1</td>\n",
       "      <td>1001</td>\n",
       "      <td>8</td>\n",
       "      <td>27.0</td>\n",
       "      <td>171.14</td>\n",
       "      <td>30.0</td>\n",
       "      <td>6919.15</td>\n",
       "      <td>surf</td>\n",
       "      <td>28.0</td>\n",
       "      <td>Seattle-Tacoma-Bellevue, WA MSA</td>\n",
       "      <td>20.00</td>\n",
       "    </tr>\n",
       "    <tr>\n",
       "      <th>2</th>\n",
       "      <td>2</td>\n",
       "      <td>2</td>\n",
       "      <td>1001</td>\n",
       "      <td>9</td>\n",
       "      <td>49.0</td>\n",
       "      <td>297.69</td>\n",
       "      <td>44.0</td>\n",
       "      <td>13314.82</td>\n",
       "      <td>surf</td>\n",
       "      <td>28.0</td>\n",
       "      <td>Seattle-Tacoma-Bellevue, WA MSA</td>\n",
       "      <td>20.00</td>\n",
       "    </tr>\n",
       "    <tr>\n",
       "      <th>3</th>\n",
       "      <td>3</td>\n",
       "      <td>3</td>\n",
       "      <td>1001</td>\n",
       "      <td>10</td>\n",
       "      <td>65.0</td>\n",
       "      <td>374.11</td>\n",
       "      <td>53.0</td>\n",
       "      <td>22330.49</td>\n",
       "      <td>surf</td>\n",
       "      <td>28.0</td>\n",
       "      <td>Seattle-Tacoma-Bellevue, WA MSA</td>\n",
       "      <td>90.09</td>\n",
       "    </tr>\n",
       "    <tr>\n",
       "      <th>4</th>\n",
       "      <td>4</td>\n",
       "      <td>4</td>\n",
       "      <td>1001</td>\n",
       "      <td>11</td>\n",
       "      <td>64.0</td>\n",
       "      <td>404.59</td>\n",
       "      <td>36.0</td>\n",
       "      <td>18504.30</td>\n",
       "      <td>surf</td>\n",
       "      <td>28.0</td>\n",
       "      <td>Seattle-Tacoma-Bellevue, WA MSA</td>\n",
       "      <td>60.00</td>\n",
       "    </tr>\n",
       "    <tr>\n",
       "      <th>...</th>\n",
       "      <td>...</td>\n",
       "      <td>...</td>\n",
       "      <td>...</td>\n",
       "      <td>...</td>\n",
       "      <td>...</td>\n",
       "      <td>...</td>\n",
       "      <td>...</td>\n",
       "      <td>...</td>\n",
       "      <td>...</td>\n",
       "      <td>...</td>\n",
       "      <td>...</td>\n",
       "      <td>...</td>\n",
       "    </tr>\n",
       "    <tr>\n",
       "      <th>2288</th>\n",
       "      <td>2288</td>\n",
       "      <td>2288</td>\n",
       "      <td>1349</td>\n",
       "      <td>12</td>\n",
       "      <td>NaN</td>\n",
       "      <td>NaN</td>\n",
       "      <td>61.0</td>\n",
       "      <td>13039.91</td>\n",
       "      <td>surf</td>\n",
       "      <td>69.0</td>\n",
       "      <td>Boston-Cambridge-Newton, MA-NH MSA</td>\n",
       "      <td>20.33</td>\n",
       "    </tr>\n",
       "    <tr>\n",
       "      <th>2289</th>\n",
       "      <td>2289</td>\n",
       "      <td>2289</td>\n",
       "      <td>1361</td>\n",
       "      <td>5</td>\n",
       "      <td>NaN</td>\n",
       "      <td>NaN</td>\n",
       "      <td>2.0</td>\n",
       "      <td>1519.69</td>\n",
       "      <td>surf</td>\n",
       "      <td>45.0</td>\n",
       "      <td>Birmingham-Hoover, AL MSA</td>\n",
       "      <td>20.00</td>\n",
       "    </tr>\n",
       "    <tr>\n",
       "      <th>2290</th>\n",
       "      <td>2290</td>\n",
       "      <td>2290</td>\n",
       "      <td>1482</td>\n",
       "      <td>10</td>\n",
       "      <td>NaN</td>\n",
       "      <td>NaN</td>\n",
       "      <td>2.0</td>\n",
       "      <td>NaN</td>\n",
       "      <td>ultimate</td>\n",
       "      <td>70.0</td>\n",
       "      <td>New York-Newark-Jersey City, NY-NJ-PA MSA</td>\n",
       "      <td>70.00</td>\n",
       "    </tr>\n",
       "    <tr>\n",
       "      <th>2291</th>\n",
       "      <td>2291</td>\n",
       "      <td>2291</td>\n",
       "      <td>1108</td>\n",
       "      <td>12</td>\n",
       "      <td>NaN</td>\n",
       "      <td>NaN</td>\n",
       "      <td>NaN</td>\n",
       "      <td>233.17</td>\n",
       "      <td>ultimate</td>\n",
       "      <td>45.0</td>\n",
       "      <td>Salt Lake City, UT MSA</td>\n",
       "      <td>70.00</td>\n",
       "    </tr>\n",
       "    <tr>\n",
       "      <th>2292</th>\n",
       "      <td>2292</td>\n",
       "      <td>2292</td>\n",
       "      <td>1311</td>\n",
       "      <td>6</td>\n",
       "      <td>NaN</td>\n",
       "      <td>NaN</td>\n",
       "      <td>NaN</td>\n",
       "      <td>1498.83</td>\n",
       "      <td>ultimate</td>\n",
       "      <td>69.0</td>\n",
       "      <td>Memphis, TN-MS-AR MSA</td>\n",
       "      <td>70.00</td>\n",
       "    </tr>\n",
       "  </tbody>\n",
       "</table>\n",
       "<p>2293 rows × 12 columns</p>\n",
       "</div>"
      ],
      "text/plain": [
       "      level_0  index  user_id  date  num_calls  duration  num_msgs   mb_used  \\\n",
       "0           0      0     1000    12       16.0    116.83      11.0   1901.47   \n",
       "1           1      1     1001     8       27.0    171.14      30.0   6919.15   \n",
       "2           2      2     1001     9       49.0    297.69      44.0  13314.82   \n",
       "3           3      3     1001    10       65.0    374.11      53.0  22330.49   \n",
       "4           4      4     1001    11       64.0    404.59      36.0  18504.30   \n",
       "...       ...    ...      ...   ...        ...       ...       ...       ...   \n",
       "2288     2288   2288     1349    12        NaN       NaN      61.0  13039.91   \n",
       "2289     2289   2289     1361     5        NaN       NaN       2.0   1519.69   \n",
       "2290     2290   2290     1482    10        NaN       NaN       2.0       NaN   \n",
       "2291     2291   2291     1108    12        NaN       NaN       NaN    233.17   \n",
       "2292     2292   2292     1311     6        NaN       NaN       NaN   1498.83   \n",
       "\n",
       "          plan   age                                       city  price  \n",
       "0     ultimate  45.0      Atlanta-Sandy Springs-Roswell, GA MSA  70.00  \n",
       "1         surf  28.0            Seattle-Tacoma-Bellevue, WA MSA  20.00  \n",
       "2         surf  28.0            Seattle-Tacoma-Bellevue, WA MSA  20.00  \n",
       "3         surf  28.0            Seattle-Tacoma-Bellevue, WA MSA  90.09  \n",
       "4         surf  28.0            Seattle-Tacoma-Bellevue, WA MSA  60.00  \n",
       "...        ...   ...                                        ...    ...  \n",
       "2288      surf  69.0         Boston-Cambridge-Newton, MA-NH MSA  20.33  \n",
       "2289      surf  45.0                  Birmingham-Hoover, AL MSA  20.00  \n",
       "2290  ultimate  70.0  New York-Newark-Jersey City, NY-NJ-PA MSA  70.00  \n",
       "2291  ultimate  45.0                     Salt Lake City, UT MSA  70.00  \n",
       "2292  ultimate  69.0                      Memphis, TN-MS-AR MSA  70.00  \n",
       "\n",
       "[2293 rows x 12 columns]"
      ]
     },
     "execution_count": 51,
     "metadata": {},
     "output_type": "execute_result"
    }
   ],
   "source": [
    "all_df"
   ]
  },
  {
   "cell_type": "markdown",
   "id": "b05e8b3e",
   "metadata": {},
   "source": [
    "### Criando função para calcular principais fatores estatísticos."
   ]
  },
  {
   "cell_type": "code",
   "execution_count": 52,
   "id": "89ed4e4a",
   "metadata": {},
   "outputs": [],
   "source": [
    "def statistic_data(column):\n",
    "    print('Analisando: ', column)\n",
    "    print('A média do plano Surf é:', all_df[column][all_df['plan']=='surf'].mean())\n",
    "    print('O desvio padrão do plano Surf é:', np.std(all_df[column][all_df['plan']=='surf']))\n",
    "    print('A variância do plano Surf é:', np.var(all_df[column][all_df['plan']=='surf']))\n",
    "    print('A média do plano Ultimate é:', all_df[column][all_df['plan']=='ultimate'].mean())\n",
    "    print('O desvio padrão do plano Ultimate é:', np.std(all_df[column][all_df['plan']=='ultimate']))\n",
    "    print('A variância do plano Ultimate é:', np.var(all_df[column][all_df['plan']=='ultimate']))\n",
    "    return None"
   ]
  },
  {
   "cell_type": "markdown",
   "id": "681fe29a",
   "metadata": {},
   "source": [
    "# Análise Exploratória de Dados\n",
    "Será descrito o comportamento dos clientes. Encontrando os minutos, mensagens de texto e volume de dados que usuários de cada plano necessitam por mês. Calculando a média, variância e o desvio padrão serão construídos histogramas."
   ]
  },
  {
   "cell_type": "code",
   "execution_count": 53,
   "id": "acd1960e",
   "metadata": {
    "scrolled": false
   },
   "outputs": [
    {
     "data": {
      "image/png": "[encoded data removed]",
      "text/plain": [
       "<Figure size 640x480 with 1 Axes>"
      ]
     },
     "metadata": {},
     "output_type": "display_data"
    }
   ],
   "source": [
    "plt.hist(all_df[all_df['plan']=='surf']['price'], alpha=0.5, bins=100, range=(21,300));\n",
    "plt.hist(all_df[all_df['plan']=='ultimate']['price'], alpha=0.7, bins=100, range=(71,300));\n",
    "plt.title('Histograma relacionando a frequência da faixa de preço e seu plano');"
   ]
  },
  {
   "cell_type": "code",
   "execution_count": 54,
   "id": "4744e4de",
   "metadata": {
    "scrolled": true
   },
   "outputs": [
    {
     "name": "stdout",
     "output_type": "stream",
     "text": [
      "Analisando:  price\n",
      "A média do plano Surf é: 60.53547375596449\n",
      "O desvio padrão do plano Surf é: 55.777637976691636\n",
      "A variância do plano Surf é: 3111.1448982588727\n",
      "A média do plano Ultimate é: 73.51796407185628\n",
      "O desvio padrão do plano Ultimate é: 16.848780781382008\n",
      "A variância do plano Ultimate é: 283.88141381906775\n"
     ]
    }
   ],
   "source": [
    "statistic_data('price')"
   ]
  },
  {
   "cell_type": "markdown",
   "id": "e64d2eeb",
   "metadata": {},
   "source": [
    "É notável que os preços do plano ultimate além de possuírem uma média maior, variam menos em comparação aos preços de surf."
   ]
  },
  {
   "cell_type": "code",
   "execution_count": 55,
   "id": "a1c0362a",
   "metadata": {},
   "outputs": [
    {
     "data": {
      "image/png": "[encoded data removed]",
      "text/plain": [
       "<Figure size 640x480 with 1 Axes>"
      ]
     },
     "metadata": {},
     "output_type": "display_data"
    }
   ],
   "source": [
    "plt.hist(all_df[all_df['plan']=='surf']['duration'], alpha=0.5, bins=100, range=(21,1500))\n",
    "plt.hist(all_df[all_df['plan']=='ultimate']['duration'], alpha=0.5, bins=100, range=(71,1500))\n",
    "plt.title('Histograma relacionando a duração da ligação e seu plano');"
   ]
  },
  {
   "cell_type": "code",
   "execution_count": 56,
   "id": "db20d645",
   "metadata": {
    "scrolled": true
   },
   "outputs": [
    {
     "name": "stdout",
     "output_type": "stream",
     "text": [
      "Analisando:  duration\n",
      "A média do plano Surf é: 414.7205976372484\n",
      "O desvio padrão do plano Surf é: 217.9738983415794\n",
      "A variância do plano Surf é: 47512.62035822519\n",
      "A média do plano Ultimate é: 411.34490166414486\n",
      "O desvio padrão do plano Ultimate é: 228.130322587089\n",
      "A variância do plano Ultimate é: 52043.44408368929\n"
     ]
    }
   ],
   "source": [
    "statistic_data('duration')"
   ]
  },
  {
   "cell_type": "markdown",
   "id": "36c862f0",
   "metadata": {},
   "source": [
    "Pode-se concluir que as ligações dos planos possuem médias e variações praticamente iguais analisando os dados."
   ]
  },
  {
   "cell_type": "code",
   "execution_count": 57,
   "id": "0a4f5577",
   "metadata": {
    "scrolled": true
   },
   "outputs": [
    {
     "data": {
      "image/png": "[encoded data removed]",
      "text/plain": [
       "<Figure size 640x480 with 1 Axes>"
      ]
     },
     "metadata": {},
     "output_type": "display_data"
    }
   ],
   "source": [
    "plt.hist(all_df[all_df['plan']=='surf']['num_msgs'], alpha=0.5, bins=100, range=(1,250))\n",
    "plt.hist(all_df[all_df['plan']=='ultimate']['num_msgs'], alpha=0.3, bins=100, range=(1,250))\n",
    "plt.title('Histograma relacionando o número de mensagens e seu plano');"
   ]
  },
  {
   "cell_type": "code",
   "execution_count": 58,
   "id": "a03049d8",
   "metadata": {
    "scrolled": true
   },
   "outputs": [
    {
     "name": "stdout",
     "output_type": "stream",
     "text": [
      "Analisando:  num_msgs\n",
      "A média do plano Surf é: 40.18777292576419\n",
      "O desvio padrão do plano Surf é: 33.40460743815006\n",
      "A variância do plano Surf é: 1115.86779809691\n",
      "A média do plano Ultimate é: 47.30442804428044\n",
      "O desvio padrão do plano Ultimate é: 33.15681096296432\n",
      "A variância do plano Ultimate é: 1099.3741132337511\n"
     ]
    }
   ],
   "source": [
    "statistic_data('num_msgs')"
   ]
  },
  {
   "cell_type": "markdown",
   "id": "7a8c4ca8",
   "metadata": {},
   "source": [
    "Por conseguinte, mediante os dados acima, é concluível que o número de mensagens varia semelhantemente nos dois planos"
   ]
  },
  {
   "cell_type": "code",
   "execution_count": 59,
   "id": "39b764ad",
   "metadata": {
    "scrolled": false
   },
   "outputs": [
    {
     "data": {
      "image/png": "[encoded data removed]",
      "text/plain": [
       "<Figure size 640x480 with 1 Axes>"
      ]
     },
     "metadata": {},
     "output_type": "display_data"
    }
   ],
   "source": [
    "plt.hist(all_df[all_df['plan']=='surf']['mb_used'], alpha=0.5, bins=100, range=(1,50000))\n",
    "plt.hist(all_df[all_df['plan']=='ultimate']['mb_used'], alpha=0.3, bins=100, range=(1,50000))\n",
    "plt.title('Histograma relacionando o uso de internet e seu plano');"
   ]
  },
  {
   "cell_type": "code",
   "execution_count": 60,
   "id": "36434ec6",
   "metadata": {
    "scrolled": true
   },
   "outputs": [
    {
     "name": "stdout",
     "output_type": "stream",
     "text": [
      "Analisando:  mb_used\n",
      "A média do plano Surf é: 16768.5747006194\n",
      "O desvio padrão do plano Surf é: 7900.757940365723\n",
      "A variância do plano Surf é: 62421976.03225202\n",
      "A média do plano Ultimate é: 17346.107901049483\n",
      "O desvio padrão do plano Ultimate é: 7928.80612712298\n",
      "A variância do plano Ultimate é: 62865966.6015029\n"
     ]
    }
   ],
   "source": [
    "statistic_data('mb_used')"
   ]
  },
  {
   "cell_type": "markdown",
   "id": "606b3f56",
   "metadata": {},
   "source": [
    "Os usuários dos dois planos utilizam a internet similarmente."
   ]
  },
  {
   "cell_type": "code",
   "execution_count": 61,
   "id": "077357ef",
   "metadata": {},
   "outputs": [
    {
     "data": {
      "image/png": "[encoded data removed]",
      "text/plain": [
       "<Figure size 640x480 with 1 Axes>"
      ]
     },
     "metadata": {},
     "output_type": "display_data"
    }
   ],
   "source": [
    "plt.hist(all_df[all_df['plan']=='surf']['num_calls'], alpha=0.5, bins=100, range=(1,175))\n",
    "plt.hist(all_df[all_df['plan']=='ultimate']['num_calls'], alpha=0.3, bins=100, range=(1,175))\n",
    "plt.title('Histograma relacionando o número de ligações e seu plano');"
   ]
  },
  {
   "cell_type": "code",
   "execution_count": 62,
   "id": "ea24e066",
   "metadata": {},
   "outputs": [
    {
     "name": "stdout",
     "output_type": "stream",
     "text": [
      "Analisando:  num_calls\n",
      "A média do plano Surf é: 61.286309937456565\n",
      "O desvio padrão do plano Surf é: 31.447674756752843\n",
      "A variância do plano Surf é: 988.95624760651\n",
      "A média do plano Ultimate é: 61.33888048411498\n",
      "O desvio padrão do plano Ultimate é: 33.37582469976809\n",
      "A variância do plano Ultimate é: 1113.9456743896496\n"
     ]
    }
   ],
   "source": [
    "statistic_data('num_calls')"
   ]
  },
  {
   "cell_type": "markdown",
   "id": "22cab027",
   "metadata": {},
   "source": [
    "O número de ligações em média, é ligeiramente maior no plano ultimate, assim como a variação."
   ]
  },
  {
   "cell_type": "code",
   "execution_count": 63,
   "id": "e1bcb635",
   "metadata": {
    "scrolled": false
   },
   "outputs": [
    {
     "data": {
      "image/png": "[encoded data removed]",
      "text/plain": [
       "<Figure size 640x480 with 1 Axes>"
      ]
     },
     "metadata": {},
     "output_type": "display_data"
    }
   ],
   "source": [
    "plt.scatter(all_df['price'], all_df['age'])\n",
    "plt.title('Gráfico de Dispersão entre preço e idade')\n",
    "plt.show();"
   ]
  },
  {
   "cell_type": "code",
   "execution_count": 64,
   "id": "0b30050c",
   "metadata": {},
   "outputs": [
    {
     "name": "stdout",
     "output_type": "stream",
     "text": [
      "Analisando:  age\n",
      "A média do plano Surf é: 44.59850034083163\n",
      "O desvio padrão do plano Surf é: 16.5241043222992\n",
      "A variância do plano Surf é: 273.04602365422704\n",
      "A média do plano Ultimate é: 47.377245508982035\n",
      "O desvio padrão do plano Ultimate é: 16.456572051015517\n",
      "A variância do plano Ultimate é: 270.818763670265\n"
     ]
    }
   ],
   "source": [
    "statistic_data('age')"
   ]
  },
  {
   "cell_type": "markdown",
   "id": "fc0db5f1",
   "metadata": {},
   "source": [
    "As idades são semelhantes para ambos os planos."
   ]
  },
  {
   "cell_type": "code",
   "execution_count": 65,
   "id": "f41fa632",
   "metadata": {
    "scrolled": true
   },
   "outputs": [
    {
     "data": {
      "image/png": "[encoded data removed]",
      "text/plain": [
       "<Figure size 640x480 with 1 Axes>"
      ]
     },
     "metadata": {},
     "output_type": "display_data"
    }
   ],
   "source": [
    "plt.scatter(all_df['num_calls'], all_df['age'])\n",
    "plt.title('Gráfico de Dispersão entre número de ligações e idade')\n",
    "plt.show();"
   ]
  },
  {
   "cell_type": "markdown",
   "id": "e21e49f9",
   "metadata": {},
   "source": [
    "Usuários na faixa de 70 e 30 anos tem o número de ligações ligeiramente maior."
   ]
  },
  {
   "cell_type": "code",
   "execution_count": 66,
   "id": "77f15599",
   "metadata": {
    "scrolled": true
   },
   "outputs": [
    {
     "data": {
      "image/png": "[encoded data removed]",
      "text/plain": [
       "<Figure size 640x480 with 1 Axes>"
      ]
     },
     "metadata": {},
     "output_type": "display_data"
    }
   ],
   "source": [
    "plt.scatter(all_df['mb_used'], all_df['age'])\n",
    "plt.title('Gráfico de Dispersão entre internet utilizada e idade')\n",
    "plt.show();"
   ]
  },
  {
   "cell_type": "markdown",
   "id": "244c8cb8",
   "metadata": {},
   "source": [
    "Dados normais, com um ligeiro aumento de internet utilizada na faixa de 30 a 40 anos."
   ]
  },
  {
   "cell_type": "code",
   "execution_count": 67,
   "id": "86c6f2c4",
   "metadata": {
    "scrolled": true
   },
   "outputs": [
    {
     "data": {
      "image/png": "[encoded data removed]",
      "text/plain": [
       "<Figure size 640x480 with 1 Axes>"
      ]
     },
     "metadata": {},
     "output_type": "display_data"
    }
   ],
   "source": [
    "plt.scatter(all_df['duration'], all_df['age'])\n",
    "plt.title('Gráfico de Dispersão entre duração de ligações e idade')\n",
    "plt.show();"
   ]
  },
  {
   "cell_type": "markdown",
   "id": "761500c6",
   "metadata": {},
   "source": [
    "Distribuição normal."
   ]
  },
  {
   "cell_type": "code",
   "execution_count": 68,
   "id": "8cdd4fb0",
   "metadata": {},
   "outputs": [],
   "source": [
    "pivot_plan=all_df.pivot_table(index=['plan'], values='price', aggfunc='median')"
   ]
  },
  {
   "cell_type": "code",
   "execution_count": 69,
   "id": "38023282",
   "metadata": {
    "scrolled": false
   },
   "outputs": [
    {
     "data": {
      "text/plain": [
       "Text(0.5, 1.0, 'Preço médio pago em mês por cada plano')"
      ]
     },
     "execution_count": 69,
     "metadata": {},
     "output_type": "execute_result"
    },
    {
     "data": {
      "image/png": "[encoded data removed]",
      "text/plain": [
       "<Figure size 640x480 with 1 Axes>"
      ]
     },
     "metadata": {},
     "output_type": "display_data"
    }
   ],
   "source": [
    "pivot_plan.plot(kind='bar')\n",
    "plt.title('Preço médio pago em mês por cada plano')"
   ]
  },
  {
   "cell_type": "markdown",
   "id": "640df764",
   "metadata": {},
   "source": [
    "# Análise Estatística de Dados"
   ]
  },
  {
   "cell_type": "markdown",
   "id": "057efcd6",
   "metadata": {},
   "source": [
    "- Salvando a lista dos valores de cada mês em duas variáveis."
   ]
  },
  {
   "cell_type": "code",
   "execution_count": 70,
   "id": "0d3de73e",
   "metadata": {},
   "outputs": [],
   "source": [
    "surf=all_df['price'][all_df['plan']=='surf']\n",
    "ultimate=all_df['price'][all_df['plan']=='ultimate']"
   ]
  },
  {
   "cell_type": "markdown",
   "id": "12c04f72",
   "metadata": {},
   "source": [
    "## Utilizando Hipótese sobre a Igualdade das Médias de Duas Populações\n",
    "Comparando médias do preço entre os dois planos, e concluíndo se a hipótese do plano Ultimate, produzir mais renda para a companhia é verdadeira."
   ]
  },
  {
   "cell_type": "code",
   "execution_count": 71,
   "id": "4b14ea7c",
   "metadata": {},
   "outputs": [],
   "source": [
    "significancia_plano=st.ttest_ind(surf, ultimate)"
   ]
  },
  {
   "cell_type": "markdown",
   "id": "25878504",
   "metadata": {},
   "source": [
    "Utilizando valor alpha definido junto com as bibliotecas para definir uma porcentagem de aceitação estatística, nesse caso, 5%.\n",
    "Logo o teste vai calcular se a probabilidade de obter aleatoriamente uma diferença da aceitação, ou maior é encontrada nas amostras.\n",
    "Hipotese Nula = As médias dos planos surf e ultimate são iguais\n",
    "Hipotese Alternativa= As médias dos planos surf e ultimate são diferentes."
   ]
  },
  {
   "cell_type": "code",
   "execution_count": 72,
   "id": "789cbe26",
   "metadata": {
    "scrolled": true
   },
   "outputs": [
    {
     "name": "stdout",
     "output_type": "stream",
     "text": [
      "Rejeitamos a hipótese nula, logo as populações possuem médias de preço significativamente diferentes.\n"
     ]
    }
   ],
   "source": [
    "if significancia_plano.pvalue < alpha:\n",
    "    print(\"Rejeitamos a hipótese nula, logo as populações possuem médias de preço significativamente diferentes.\")\n",
    "else:\n",
    "    print(\"Nós não podemos rejeitar a hipótese nula\") "
   ]
  },
  {
   "cell_type": "markdown",
   "id": "98b7eb9e",
   "metadata": {},
   "source": [
    "Temos evidências para rejeitar a hipótese nula, indicando que as médias não são iguais para os dois planos."
   ]
  },
  {
   "cell_type": "code",
   "execution_count": 73,
   "id": "baf2eb8a",
   "metadata": {},
   "outputs": [],
   "source": [
    "#Utilizando query para procurar no dataframe onde a cidade Nova York é encontrada para comparar com todas as outras do dataframe.\n",
    "NY_NJ = all_df[all_df['city'].str.contains('NY-NJ', na=False)]\n",
    "Not_NY_NJ = all_df.query('city not in @NY_NJ.city')"
   ]
  },
  {
   "cell_type": "markdown",
   "id": "c6c96d3e",
   "metadata": {},
   "source": [
    "Calculando a significância comparando os dados de Nova York e do resto do df."
   ]
  },
  {
   "cell_type": "code",
   "execution_count": 74,
   "id": "dac9bf20",
   "metadata": {},
   "outputs": [],
   "source": [
    "significancia_local=st.ttest_ind(NY_NJ['price'], Not_NY_NJ['price'])"
   ]
  },
  {
   "cell_type": "code",
   "execution_count": 75,
   "id": "51c73656",
   "metadata": {},
   "outputs": [
    {
     "name": "stdout",
     "output_type": "stream",
     "text": [
      "Nós não podemos rejeitar a hipótese nula, então as populações não possuem médias de preços significativamente diferentes.\n"
     ]
    }
   ],
   "source": [
    "if significancia_local.pvalue < alpha:\n",
    "    print(\"Rejeitamos a hipótese nula, logo as populações possuem médias de preço significativamente diferentes.\")\n",
    "else:\n",
    "    print(\"Nós não podemos rejeitar a hipótese nula, então as populações não possuem médias de preços significativamente diferentes.\") "
   ]
  },
  {
   "cell_type": "markdown",
   "id": "76cc22fa",
   "metadata": {},
   "source": [
    "Temos evidências para aceitar a hipótese nula, indicando que as médias são iguais para as áreas calculadas."
   ]
  },
  {
   "cell_type": "markdown",
   "id": "4859d3bc",
   "metadata": {},
   "source": [
    "# Conclusão\n",
    "## Inicialização dos dados\n",
    "\n",
    "Para tratá-los, foi criada uma tabela geral com todos os tipos de informações divididas por mês, para facilitar na exploração e vizualização dos dados.\n",
    "\n",
    "## Tratamento dos dados\n",
    "\n",
    "Foram transformados em datetime as colunas necessárias.\n",
    "\n",
    "## Enriquecimento dos dados\n",
    "\n",
    "Foram utilizadas funções merge para fundir os dataframes e facilitar o uso dos dados.\n",
    "\n",
    "## Análise exploratória de dados\n",
    "\n",
    "### A partir da vizualização por gráficos, é possível concluir que:\n",
    "\n",
    "- É notável que os preços do plano ultimate além de possuírem uma média maior, variam menos em comparação aos preços de surf.\n",
    "- Pode-se concluir que as ligações dos planos possuem médias e variações praticamente iguais analisando os dados.\n",
    "- Por conseguinte, mediante os dados acima, é concluível que o número de mensagens varia semelhantemente nos dois planos\n",
    "- Os usuários dos dois planos utilizam a internet similarmente.\n",
    "- O número de ligações em média, é ligeiramente maior no plano ultimate, assim como a variação.\n",
    "- As idades são semelhantes para ambos os planos.\n",
    "- Ligeiro aumento de internet utilizada na faixa de 30 a 40 anos.\n",
    "\n",
    "## Análise estatística de dados\n",
    "\n",
    "### Diferença da média do preço de acordo com os planos\n",
    "\n",
    "- Rejeição da hipótese nula, logo as populações possuem médias de preço significativamente diferentes.\n",
    "\n",
    "### Diferença da média do preço de acordo com a área (em Nova York, ou fora)\n",
    "\n",
    "- Hipótese nula aceita, as médias das populações não contêm diferenças significativas para a hipóteses de haver uma diferença de preço pago pela área onde o usuário vive.\n",
    "\n",
    "## Plano com mais receita\n",
    "\n",
    "### Ultimate Plan deve receber mais foco orçamentário.\n",
    "\n",
    "Por conseguinte, mediante os dados analisados, é deduzido que o usuário do Ultimate Plan gera mais receita para a operadora em comparação ao usuário do surf. A partir dos gráficos e teste de hipótese temos uma média maior de valor gasto para o usuário do ultimate plan, portanto, gera mais lucro a companhia."
   ]
  }
 ],
 "metadata": {
  "kernelspec": {
   "display_name": "Python 3 (ipykernel)",
   "language": "python",
   "name": "python3"
  },
  "language_info": {
   "codemirror_mode": {
    "name": "ipython",
    "version": 3
   },
   "file_extension": ".py",
   "mimetype": "text/x-python",
   "name": "python",
   "nbconvert_exporter": "python",
   "pygments_lexer": "ipython3",
   "version": "3.9.12"
  }
 },
 "nbformat": 4,
 "nbformat_minor": 5
}
